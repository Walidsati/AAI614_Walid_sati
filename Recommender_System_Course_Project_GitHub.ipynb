{
  "nbformat": 4,
  "nbformat_minor": 0,
  "metadata": {
    "colab": {
      "provenance": [],
      "include_colab_link": true
    },
    "kernelspec": {
      "name": "python3",
      "display_name": "Python 3"
    },
    "language_info": {
      "name": "python"
    }
  },
  "cells": [
    {
      "cell_type": "markdown",
      "metadata": {
        "id": "view-in-github",
        "colab_type": "text"
      },
      "source": [
        "<a href=\"https://colab.research.google.com/github/Walidsati/AAI614_Walid_sati/blob/main/Recommender_System_Course_Project_GitHub.ipynb\" target=\"_parent\"><img src=\"https://colab.research.google.com/assets/colab-badge.svg\" alt=\"Open In Colab\"/></a>"
      ]
    },
    {
      "cell_type": "markdown",
      "source": [
        "# Graded Assessment -- AAI 6350 Recommender Systems Course --"
      ],
      "metadata": {
        "id": "2pZyDezN6cLJ"
      }
    },
    {
      "cell_type": "markdown",
      "source": [
        "# Part 1: Recommendation System Using GCNN [weight: 40\\%]"
      ],
      "metadata": {
        "id": "vrOzAVmq3pWB"
      }
    },
    {
      "cell_type": "markdown",
      "source": [
        "# Step 1: Data Preparation\n",
        "- Load the Data: Read the Excel file and extract the relevant columns (CustomerID, StockCode, Quantity).\n",
        "- Data Cleaning: Ensure there are no missing values in the relevant columns.\n",
        "- Create Interaction Matrix: Construct an adjacency matrix where rows represent customers and columns represent items. The values in the matrix will be the quantities purchased."
      ],
      "metadata": {
        "id": "sCoSCUQqjEzp"
      }
    },
    {
      "cell_type": "code",
      "source": [
        "import pandas as pd\n",
        "import numpy as np\n",
        "\n",
        "# load\n",
        "df      = pd.read_excel(\"Rec_sys_data.xlsx\", usecols=[\"CustomerID\",\"StockCode\",\"Quantity\"])\n",
        "catalog = pd.read_excel(\"Rec_sys_data.xlsx\", sheet_name=\"product\")[[\"StockCode\",\"Description\"]]\n",
        "\n",
        "# clean\n",
        "df.dropna(inplace=True)\n",
        "df[\"CustomerID\"] = df[\"CustomerID\"].astype(int)\n",
        "df[\"StockCode\"]  = df[\"StockCode\"].astype(str)\n",
        "df[\"Quantity\"]   = df[\"Quantity\"].astype(float)\n",
        "df = df[df[\"Quantity\"] > 0]                    # remove returns / negative qty\n",
        "\n",
        "catalog[\"StockCode\"] = catalog[\"StockCode\"].astype(str)\n",
        "item_titles = dict(zip(catalog[\"StockCode\"], catalog[\"Description\"]))\n",
        "\n",
        "# dense interaction matrix\n",
        "interaction_df = (\n",
        "    df.pivot_table(index=\"CustomerID\",\n",
        "                   columns=\"StockCode\",\n",
        "                   values=\"Quantity\",\n",
        "                   aggfunc=\"sum\",\n",
        "                   fill_value=0)\n",
        ")\n",
        "customer_ids = interaction_df.index\n",
        "item_codes   = interaction_df.columns\n",
        "interaction_matrix = interaction_df.values\n"
      ],
      "metadata": {
        "id": "eaLYr-05hhNU"
      },
      "execution_count": 1,
      "outputs": []
    },
    {
      "cell_type": "code",
      "execution_count": 2,
      "metadata": {
        "id": "Lc0BmAXOjBAH"
      },
      "outputs": [],
      "source": [
        "#import pandas as pd\n",
        "#import numpy as np\n",
        "\n",
        "# Load the dataset\n",
        "#data = pd.read_excel('Rec_sys_data.xlsx')\n",
        "\n",
        "# Create a pivot table to form the interaction matrix\n",
        "#interaction_matrix = data.pivot_table(index='CustomerID', columns='StockCode', values='Quantity', fill_value=0)\n",
        "\n",
        "# Convert to a NumPy array for further processing\n",
        "#interaction_matrix = interaction_matrix.values"
      ]
    },
    {
      "cell_type": "markdown",
      "source": [
        "# Step 2: Graph Construction [25 points]\n",
        "- Graph Representation: Each customer and item will be a node in the graph. An edge exists between a customer and an item if the customer has purchased that item.\n",
        "- Adjacency Matrix: Create an adjacency matrix where the rows represent customers and the columns represent items."
      ],
      "metadata": {
        "id": "hmkY6QpXjRE8"
      }
    },
    {
      "cell_type": "code",
      "source": [
        "#!pip install torch-geometric"
      ],
      "metadata": {
        "collapsed": true,
        "id": "89SGltXwXX0M"
      },
      "execution_count": 3,
      "outputs": []
    },
    {
      "cell_type": "code",
      "source": [
        "from scipy.sparse import coo_matrix\n",
        "import torch\n",
        "from torch_geometric.data import Data\n",
        "\n",
        "# sparse COO\n",
        "adj = coo_matrix(np.log1p(interaction_matrix))\n",
        "row, col, w = adj.row, adj.col, adj.data\n",
        "\n",
        "num_users, num_items = adj.shape\n",
        "edge_np   = np.vstack([row, col + num_users])\n",
        "edge_attr = w.astype(np.float32).reshape(-1,1)\n",
        "\n",
        "data = Data(\n",
        "    edge_index = torch.from_numpy(edge_np).long(),\n",
        "    edge_attr  = torch.from_numpy(edge_attr),\n",
        "    num_nodes  = num_users + num_items\n",
        ")\n",
        "data.x = torch.ones((data.num_nodes, 1))\n",
        "print(data)\n"
      ],
      "metadata": {
        "colab": {
          "base_uri": "https://localhost:8080/"
        },
        "id": "5qoCRey0jhb7",
        "outputId": "b5b92c0a-3fb7-4192-9565-0b8cb7b64789"
      },
      "execution_count": 4,
      "outputs": [
        {
          "output_type": "stream",
          "name": "stdout",
          "text": [
            "Data(edge_index=[2, 192758], edge_attr=[192758, 1], num_nodes=7185, x=[7185, 1])\n"
          ]
        }
      ]
    },
    {
      "cell_type": "markdown",
      "source": [
        "# Step 3: Model Definition (GCNN) [35 points]\n",
        "- Define the GCNN Architecture: Use a library like PyTorch Geometric or TensorFlow with Keras to define the GCNN model.\n",
        "- The model will consist of graph convolutional layers that learn representations for both customers and items.\n",
        "- Prepare Data for Training: Convert the adjacency matrix and features into a format suitable for the GCNN."
      ],
      "metadata": {
        "id": "oM779u1Mjf-0"
      }
    },
    {
      "cell_type": "code",
      "source": [
        "from torch_geometric.transforms import RandomLinkSplit\n",
        "\n",
        "split = RandomLinkSplit(\n",
        "    num_val=0.1, num_test=0.1,\n",
        "    is_undirected=True,\n",
        "    split_labels=True,\n",
        "    add_negative_train_samples=False\n",
        ")\n",
        "train_data, val_data, test_data = split(data)\n",
        "\n",
        "# helper dicts for later\n",
        "from collections import defaultdict\n",
        "seen_dict, val_gt = defaultdict(set), defaultdict(set)\n",
        "\n",
        "for u,i in zip(train_data.edge_index[0].numpy(),\n",
        "               train_data.edge_index[1].numpy()):\n",
        "    seen_dict[u].add(i-num_users)\n",
        "\n",
        "u_val = val_data.pos_edge_label_index[0].numpy()\n",
        "i_val = (val_data.pos_edge_label_index[1]-num_users).numpy()\n",
        "for u,i in zip(u_val,i_val):\n",
        "    val_gt[u].add(i)\n"
      ],
      "metadata": {
        "id": "2xiQPGXEky6x"
      },
      "execution_count": 5,
      "outputs": []
    },
    {
      "cell_type": "markdown",
      "source": [
        "# Step 4: Training the Model [40 points]\n",
        "\n",
        "- Loss Function: Use a suitable loss function, such as Mean Squared Error (MSE) as we are working with continuous interaction scores.\n",
        "- Optimizer: Choose an optimizer like Adam or SGD.\n",
        "- Training Loop: Implement the training loop to update the model weights based on the loss. In each epoch, calculate the predictions using the model, compute the loss between predicted and actual values, and perform backpropagation to update the model's weights.\n",
        "- Also compute the validation loss to evaluate the model's performance on unseen data, and use early stopping to halt training when the validation loss stops improving, preventing overfitting."
      ],
      "metadata": {
        "id": "VG6dBRgXj4Q4"
      }
    },
    {
      "cell_type": "code",
      "source": [
        "# GCNN model + BPR training\n",
        "import torch.nn as nn\n",
        "import torch.nn.functional as F\n",
        "from torch_geometric.nn import GCNConv\n",
        "from torch_geometric.utils import negative_sampling\n",
        "\n",
        "class GCNNRec(nn.Module):\n",
        "    def __init__(self, n_users, n_items, dim=128, layers=3, p=0.3):\n",
        "        super().__init__()\n",
        "        self.n_users, self.n_items = n_users, n_items\n",
        "        self.U = nn.Embedding(n_users, dim)\n",
        "        self.I = nn.Embedding(n_items, dim)\n",
        "        nn.init.xavier_uniform_(self.U.weight)\n",
        "        nn.init.xavier_uniform_(self.I.weight)\n",
        "        self.convs = nn.ModuleList([GCNConv(dim, dim) for _ in range(layers)])\n",
        "        self.drop  = nn.Dropout(p)\n",
        "\n",
        "    def node_emb(self, edge_index):\n",
        "        x = torch.cat([self.U.weight, self.I.weight], 0)\n",
        "        for conv in self.convs:\n",
        "            x = self.drop(F.relu(conv(x, edge_index)))\n",
        "        return x\n",
        "\n",
        "    def score(self, users, items, x):\n",
        "        u = x[users]\n",
        "        i = x[items + self.n_users]\n",
        "        return (u * i).sum(-1)\n",
        "\n",
        "device = torch.device(\"cuda\" if torch.cuda.is_available() else \"cpu\")\n",
        "model  = GCNNRec(num_users, num_items).to(device)\n",
        "opt    = torch.optim.Adam(model.parameters(), lr=2e-3, weight_decay=1e-4)\n",
        "\n",
        "def bpr_loss(pos, neg):\n",
        "    return -torch.log(torch.sigmoid(pos - neg)).mean()\n",
        "\n",
        "best_recall, patience = 0, 5\n",
        "stall, K_EARLY = 0, 20\n",
        "EPOCHS = 50\n",
        "\n",
        "for epoch in range(1, EPOCHS + 1):\n",
        "    # training\n",
        "    model.train()\n",
        "    opt.zero_grad()\n",
        "\n",
        "    emb = model.node_emb(train_data.edge_index.to(device))\n",
        "\n",
        "    # positive edges\n",
        "    pos_u, pos_i_shift = train_data.edge_index\n",
        "    pos_u   = pos_u.to(device)\n",
        "    pos_i   = (pos_i_shift - num_users).to(device)\n",
        "\n",
        "    # negative edges\n",
        "    neg_edge = negative_sampling(\n",
        "        edge_index=train_data.edge_index,\n",
        "        num_nodes=train_data.num_nodes,\n",
        "        num_neg_samples=pos_u.size(0) ,\n",
        "        method=\"sparse\"\n",
        "    )\n",
        "    neg_u, neg_i_shift = neg_edge\n",
        "    neg_u = neg_u.to(device)\n",
        "    neg_i = (neg_i_shift - num_users).to(device)\n",
        "\n",
        "    loss = bpr_loss(\n",
        "        model.score(pos_u, pos_i, emb),\n",
        "        model.score(neg_u, neg_i, emb)\n",
        "    )\n",
        "    loss.backward()\n",
        "    opt.step()\n",
        "\n",
        "    # validation Recall@20\n",
        "    model.eval()\n",
        "    with torch.no_grad():\n",
        "        emb_val = model.node_emb(train_data.edge_index.to(device))\n",
        "\n",
        "        hits, total = 0, 0\n",
        "        for u in val_gt:\n",
        "            scores = model.score(\n",
        "                torch.full((num_items,), u, dtype=torch.long, device=device),\n",
        "                torch.arange(num_items, device=device),\n",
        "                emb_val\n",
        "            ).cpu()\n",
        "\n",
        "            # mask items seen in training\n",
        "            scores[list(seen_dict[u])] = -np.inf\n",
        "\n",
        "            topk = scores.topk(K_EARLY).indices.numpy()\n",
        "            hits += len(set(topk) & val_gt[u])\n",
        "            total += len(val_gt[u])\n",
        "\n",
        "        recall20 = hits / total\n",
        "\n",
        "    print(f\"Epoch {epoch:02d}  BPRloss {loss.item():.4f}  val Recall@20 {recall20:.4f}\")\n",
        "\n",
        "    # early stopping\n",
        "    if recall20 > best_recall + 1e-4:\n",
        "        best_recall = recall20\n",
        "        best_state  = model.state_dict()\n",
        "        stall = 0\n",
        "    else:\n",
        "        stall += 1\n",
        "        if stall >= patience:\n",
        "            print(\"Early stop.\")\n",
        "            break\n",
        "\n",
        "# restore best weights\n",
        "model.load_state_dict(best_state)\n",
        "model.eval()\n"
      ],
      "metadata": {
        "colab": {
          "base_uri": "https://localhost:8080/"
        },
        "id": "cL_pgLnZuvHv",
        "outputId": "31b26e68-da18-45cf-c7f6-15a728d4a0c3"
      },
      "execution_count": 6,
      "outputs": [
        {
          "output_type": "stream",
          "name": "stdout",
          "text": [
            "Epoch 01  BPRloss 0.6931  val Recall@20 0.0167\n",
            "Epoch 02  BPRloss 0.6924  val Recall@20 0.0603\n",
            "Epoch 03  BPRloss 0.6900  val Recall@20 0.0610\n",
            "Epoch 04  BPRloss 0.6845  val Recall@20 0.0612\n",
            "Epoch 05  BPRloss 0.6727  val Recall@20 0.0613\n",
            "Epoch 06  BPRloss 0.6493  val Recall@20 0.0619\n",
            "Epoch 07  BPRloss 0.6082  val Recall@20 0.0627\n",
            "Epoch 08  BPRloss 0.5483  val Recall@20 0.0632\n",
            "Epoch 09  BPRloss 0.4662  val Recall@20 0.0638\n",
            "Epoch 10  BPRloss 0.3821  val Recall@20 0.0639\n",
            "Epoch 11  BPRloss 0.3371  val Recall@20 0.0644\n",
            "Epoch 12  BPRloss 0.3705  val Recall@20 0.0644\n",
            "Epoch 13  BPRloss 0.4067  val Recall@20 0.0644\n",
            "Epoch 14  BPRloss 0.4122  val Recall@20 0.0644\n",
            "Epoch 15  BPRloss 0.3933  val Recall@20 0.0641\n",
            "Epoch 16  BPRloss 0.3570  val Recall@20 0.0640\n",
            "Early stop.\n"
          ]
        },
        {
          "output_type": "execute_result",
          "data": {
            "text/plain": [
              "GCNNRec(\n",
              "  (U): Embedding(3647, 128)\n",
              "  (I): Embedding(3538, 128)\n",
              "  (convs): ModuleList(\n",
              "    (0-2): 3 x GCNConv(128, 128)\n",
              "  )\n",
              "  (drop): Dropout(p=0.3, inplace=False)\n",
              ")"
            ]
          },
          "metadata": {},
          "execution_count": 6
        }
      ]
    },
    {
      "cell_type": "markdown",
      "source": [
        "# Part 2: Recommendation System Evaluation and Comparison Using GCNN and NeuMF Models [weight: 30\\%]"
      ],
      "metadata": {
        "id": "7qGm-oBQ3w-y"
      }
    },
    {
      "cell_type": "markdown",
      "source": [
        "# Step 1: Evaluation [40 points]\n",
        "\n",
        "To calculate the average precision, recall, and F1 score for all customers, follow these steps:\n",
        "\n",
        "- Obtain Model Predictions: Use the trained model to predict interaction scores for all customer-item pairs in the validation set.\n",
        "\n",
        "- Rank Items by Predicted Scores: For each customer, rank items based on the predicted interaction scores in descending order.\n",
        "\n",
        "- Define Relevant Items: Set a threshold to determine which items are considered relevant (e.g., based on the top-k predictions or actual interactions greater than zero).\n",
        "\n",
        "- Calculate Precision, Recall, and F1 Score for Each Customer: For each customer, calculate precision, recall, and F1 score using the relevant predicted and actual items.\n",
        "\n",
        "- Compute Average Precision, Recall, and F1 Score: Calculate the mean of precision, recall, and F1 scores across all customers."
      ],
      "metadata": {
        "id": "-Be3vugeLBvo"
      }
    },
    {
      "cell_type": "code",
      "source": [
        "def metrics(split_data, K=10):\n",
        "    emb = model.node_emb(train_data.edge_index.to(device))\n",
        "    pos = split_data.pos_edge_label_index\n",
        "    users = pos[0].cpu().numpy()\n",
        "    items = (pos[1]-num_users).cpu().numpy()\n",
        "\n",
        "    # build GT dict on-the-fly\n",
        "    gt = defaultdict(set)\n",
        "    for u,i in zip(users, items): gt[u].add(i)\n",
        "\n",
        "    prec, rec, f1 = [], [], []\n",
        "    for u, rel in gt.items():\n",
        "        scores = model.score(\n",
        "            torch.full((num_items,), u, dtype=torch.long, device=device),\n",
        "            torch.arange(num_items, device=device), emb).cpu()\n",
        "        scores[list(seen_dict[u])] = -np.inf\n",
        "        topk = scores.topk(K).indices.numpy()\n",
        "        recset = set(topk)\n",
        "        hit = len(recset & rel)\n",
        "        prec.append(hit/K)\n",
        "        rec.append(hit/len(rel))\n",
        "        f1.append(2*prec[-1]*rec[-1]/(prec[-1]+rec[-1]) if hit else 0)\n",
        "    return np.mean(prec), np.mean(rec), np.mean(f1)\n",
        "\n",
        "for name, ds in [(\"Validation\", val_data), (\"Test\", test_data)]:\n",
        "    p,r,f = metrics(ds, K=10)\n",
        "    print(f\"{name}  P@10 {p:.4f}  R@10 {r:.4f}  F1@10 {f:.4f}\")\n"
      ],
      "metadata": {
        "colab": {
          "base_uri": "https://localhost:8080/"
        },
        "id": "C0YR1MUEm-LD",
        "outputId": "cb37aa79-ff45-4d77-cc64-7af5dd17b191"
      },
      "execution_count": 7,
      "outputs": [
        {
          "output_type": "stream",
          "name": "stdout",
          "text": [
            "Validation  P@10 0.0238  R@10 0.0452  F1@10 0.0257\n",
            "Test  P@10 0.0222  R@10 0.0398  F1@10 0.0231\n"
          ]
        }
      ]
    },
    {
      "cell_type": "markdown",
      "source": [
        "# Step 2: Generating Recommendations and Evaluating for a Specific Customer [40 points]\n",
        "\n",
        "1- Mapping Customer IDs to Indices.\n",
        "\n",
        "2- Get Predicted Scores for the Customer.\n",
        "\n",
        "3- Rank Items by Predicted Scores.\n",
        "\n",
        "4- Map Recommended Items to Stock Codes.\n",
        "\n",
        "5- Compare Recommendations with Actual Interactions.\n",
        "\n",
        "6- Calculate Precision, Recall, and F1 Score."
      ],
      "metadata": {
        "id": "mYvJq4c4iz2l"
      }
    },
    {
      "cell_type": "code",
      "source": [
        "#data_prod = pd.read_excel('Rec_sys_data.xlsx', sheet_name='product')"
      ],
      "metadata": {
        "id": "YZ6-QpBQb4iL"
      },
      "execution_count": 8,
      "outputs": []
    },
    {
      "cell_type": "code",
      "source": [
        "# Create a mapping from StockCode to product names\n",
        "#item_titles = data_prod[['StockCode', 'Product Name']].drop_duplicates()\n",
        "#item_titles_dict = dict(zip(item_titles['StockCode'], item_titles['Product Name']))"
      ],
      "metadata": {
        "id": "L91TapQdb-pi"
      },
      "execution_count": 9,
      "outputs": []
    },
    {
      "cell_type": "code",
      "source": [
        "# single customer demo\n",
        "def recommend_one(cust_id, K=10):\n",
        "    u = customer_ids.get_loc(cust_id)\n",
        "    emb = model.node_emb(train_data.edge_index.to(device))\n",
        "    s  = model.score(torch.full((num_items,), u, dtype=torch.long, device=device),\n",
        "                     torch.arange(num_items, device=device), emb).cpu()\n",
        "    s[list(seen_dict[u])] = -np.inf\n",
        "    topk = s.topk(K).indices.numpy()\n",
        "    codes = item_codes[topk]\n",
        "    print(f\"\\nTop-{K} recommendations for Customer {cust_id}:\")\n",
        "    for rk,(c,idx) in enumerate(zip(codes, topk),1):\n",
        "        print(f\"{rk:2d}. {c:<8} – {item_titles.get(c,'Unknown')}\")\n",
        "    rel = val_gt[u] | set((test_data.pos_edge_label_index[1]-num_users)\n",
        "                          [test_data.pos_edge_label_index[0]==u].cpu().numpy())\n",
        "    print(\"\\nActual held-out items:\")\n",
        "    for c in item_codes[list(rel)]:\n",
        "        print(\" •\", c, \"-\", item_titles.get(c,'Unknown'))\n",
        "\n",
        "recommend_one(17850)"
      ],
      "metadata": {
        "id": "1rC2hucjZmfV",
        "colab": {
          "base_uri": "https://localhost:8080/"
        },
        "outputId": "d3778214-2006-4aeb-831f-2c173baee3fa"
      },
      "execution_count": 10,
      "outputs": [
        {
          "output_type": "stream",
          "name": "stdout",
          "text": [
            "\n",
            "Top-10 recommendations for Customer 17850:\n",
            " 1. 22423    – Tune: 18 note movement (please see above for available song titles) Painting: &quot;Lucheon of the Boating Party&quot;by Renoir, Pierre Auguste Exterior: red wine finish, replica painted top Interior: lined in plush red velvet with open compartment Wood/Materials: Walnut, gold hardware By Ercolano, handcrafted in Sorrento, Italy 6.75&quot;x 4.5&quot;x 2.5|Handcrafted Ercolano Music Box Featuring &quot;Luncheon of the Boating Party&quot; by Renoir, Pierre Auguste - New YorkNew York\n",
            " 2. 85123A   – The sheerest compression stocking in its class is exactly what is states: sheer and soft. mediven sheer &amp; soft,which is virtually indistinguishable from regular hosiery, is specifically designed for fashion-conscious patients who demand the most durable, best-looking medical compression available. Ideal for both day and evening wear, only you and your patients will know that mediven sheer &amp; soft is a medical compression stocking.| Unequaled sheerness and softness Machine wash and tumble dry Easy to apply \n",
            " 3. 47566    – Our durable, moisture-wicking Dry Zone polo-now with UV protection. An exceptional value, this breathable mesh polo also resists snags. Colors coordinate with our Core Classic Pique Polos and Carefree Poplin Shirts. 4.5-ounce, 100% polyester double knit pique UPF rating of 30 Tag-free label Flat knit collar 3-button placket with pearlized buttons Set-in, open hem sleeves Side vents Due to the nature of 100% polyester performance fabrics, special care must be taken throughout the printing process.|Port Authority K110 Dry Zone UV Micro-Mesh Polo, Gusty Grey, S\n",
            " 4. 84879    – The sheerest compression stocking in its class is exactly what is states: sheer and soft. mediven sheer &amp; soft,which is virtually indistinguishable from regular hosiery, is specifically designed for fashion-conscious patients who demand the most durable, best-looking medical compression available. Ideal for both day and evening wear, only you and your patients will know that mediven sheer &amp; soft is a medical compression stocking.| Unequaled sheerness and softness Machine wash and tumble dry Easy to apply \n",
            " 5. 22720    – Do You Want Your DJI Ryze Tello Drone To Look Different Than The Rest? Youâ€™re in the right place because weâ€™ve got exactly what youâ€™re looking for! This Abstract Wood skin is the perfect way to show off your style! Or with hundreds of other MightySkins designs, you can be sure to find one that youâ€™ll love, and that will show off your unique style! Do You Want To Protect Your Tello Drone? With MightySkins your Tello Drone is protected from scratches, dings, dust, fingertips, and the wear-and-tear of everyday use! Cover your Tello Drone with a beautiful, stylish decal skin and keep it protected at the same time! Easy to apply, and easy to remove without any sticky residue! Make your favorite gear look like new, and stand out from the crowd! Order With Confidence - Satisfaction Guaranteed! MightySkins are durable, reliable, made in our state-of-the-art production facility in the U.S.A., and backed by our satisfaction guarantee! Product Details: â€¢ Vinyl decal sticker â€¢ NOT A HARD CASE â€¢ Matte Finish â€¢ Ultra-Thin, Ultra-Durable, Stain Resistant â€¢ Hundreds of different designs â€¢ DJI Ryze Tello Drone is not included.|This is NOT A HARD CASE (Skin Decal Only). It is a vinyl skin/decal sticker and is NOT made of rubber, silicone, gel or plastic. Device shown not included.\n",
            " 6. 21212    – Our Rustic Collection is an instant classic. Our Rustic wood millwork utilizes the technologies of today to build the 'log and timber' wood products that have been in architecture for centuries. Because our products are not kiln dried, each item in our Rustic Collection is 100% unique and will contain the natural variations that the wood species offers. Your wood bracket, corbel, rafter tail, will contain unique colors, grains, textures, knots, sapwood &amp; heartwood content and possible sap bleeding, and even natural checking, splitting &amp; cracks. These natural variations are what make the Rustic Collection stand out from the rest. Be proud of your project; stand out from the cookie-cutter homes; use the Rustic Collection family of products.|3 1/2&quot;W x 20&quot;D x 20&quot;H Funston Craftsman Smooth Bracket, Douglas Fir\n",
            " 7. 22457    – Our Rustic Collection is an instant classic. Our Rustic wood millwork utilizes the technologies of today to build the 'log and timber' wood products that have been in architecture for centuries. Because our products are not kiln dried, each item in our Rustic Collection is 100% unique and will contain the natural variations that the wood species offers. Your wood bracket, corbel, rafter tail, will contain unique colors, grains, textures, knots, sapwood &amp; heartwood content and possible sap bleeding, and even natural checking, splitting &amp; cracks. These natural variations are what make the Rustic Collection stand out from the rest. Be proud of your project; stand out from the cookie-cutter homes; use the Rustic Collection family of products.|3 1/2&quot;W x 20&quot;D x 20&quot;H Funston Craftsman Smooth Bracket, Douglas Fir\n",
            " 8. 85099B   – Stunning in coffee brown we show these specs with all the full flavor of fashion you can find online. With cat eyes in the front and anti-glare lenses for you, we have these comfortable specs calling your name. The studded temples are attractive and flare down to the ear pieces that mold ever so nicely to your face. The light weight of these specs will impress you and allow all day wear no matter how daunting the day. We love to provide grade eye wear and guarantee you will love your new specs.| Always custom made to your individual order specifications in our FDA Listed Lab with the remarkable Optical grade Custom frames and Lenses available. Better style better grade and always less than retail. Rx lens included! Glasses come with a Hard protective case and micro fiber cleaning cloth. Very light and strong frame with Ebe signature comfort fit bridge for easy all day use without hot spots. We design and produce all of our frames and lenses in our FDA listed Labs. Lenses Include Anti-Glare and Anti-Reflective Coating. You will Love your New Glasses and we Guarantee it 100%. We do not sell Cheap &quot;drug store&quot; reading glasses. Lens Width=52, Lens Height=34, Bridge Width=16, Temple Length=139, Frame Width=132 \n",
            " 9. 22469    – Do You Want Your Lifeproof iPhone 5s case To Look Different Than The Rest? Youâ€™re in the right place because weâ€™ve got exactly what youâ€™re looking for! This Bang Theory skin is the perfect way to show off your style! Or with hundreds of other MightySkins designs, you can be sure to find one that youâ€™ll love, and that will show off your unique style! Do You Want To Protect Your iPhone 5s case? With MightySkins your iPhone 5s case is protected from scratches, dings, dust, fingertips, and the wear-and-tear of everyday use! Cover your iPhone 5s case with a beautiful, stylish decal skin and keep it protected at the same time! Easy to apply, and easy to remove without any sticky residue! Make your favorite gear look like new, and stand out from the crowd! Order With Confidence - Satisfaction Guaranteed! MightySkins are durable, reliable, made in our state-of-the-art production facility in the U.S.A., and backed by our satisfaction guarantee! Product Details: â€¢ Vinyl decal sticker â€¢ NOT A HARD CASE â€¢ Matte Finish â€¢ Ultra-Thin, Ultra-Durable, Stain Resistant â€¢ Hundreds of different designs â€¢ Lifeproof iPhone 5s case is not included.|This is NOT A HARD CASE (Skin Decal Only). It is a vinyl skin/decal sticker and is NOT made of rubber, silicone, gel or plastic. Device shown not included.\n",
            "10. 23298    – Our Rustic Collection is an instant classic. Our Rustic wood millwork utilizes the technologies of today to build the 'log and timber' wood products that have been in architecture for centuries. Because our products are not kiln dried, each item in our Rustic Collection is 100% unique and will contain the natural variations that the wood species offers. Your wood bracket, corbel, rafter tail, will contain unique colors, grains, textures, knots, sapwood &amp; heartwood content and possible sap bleeding, and even natural checking, splitting &amp; cracks. These natural variations are what make the Rustic Collection stand out from the rest. Be proud of your project; stand out from the cookie-cutter homes; use the Rustic Collection family of products.|3 1/2&quot;W x 20&quot;D x 20&quot;H Funston Craftsman Smooth Bracket, Douglas Fir\n",
            "\n",
            "Actual held-out items:\n",
            " • 21071 - The Tush-Cush orthopedic seat cushion is scientifically designed to relieve and prevent back pain, numb buttocks and other discomforts associated with sitting. The unique cutout section of the cushion suspends the tailbone providing comfort and relief to areas sensitive to sitting. Wedge shape tilts your pelvis forward to restore your spine's natural lumbar curve. The Tush Cush is the original design of the wedge shaped cushion with cutout. During the 22 years that we have been in business there have been many attempts to replicate our product. Often imitated, NEVER duplicated. Our cushion is made of the highest quality foam to maintain the integrity of the wedge and give you the best support possible every time you sit.| Scientifically designed to relieve back pain Suspends the tailbone (coccyx) to reduce pressure on the spine Tips the pelvis forward to restore the natural lumbar curve \n",
            " • 15056BL - MLS 100% COTTON GRAPHIC T-SHIRT. MACHINE WASHABLE.| WOMEN'S TEAM SS TEE. 100% COTTON. MACHINE WASH WARM. VANCOUVER WHITECAPS T-SHIRT Country of Origin: &nbsp;Imported\n",
            " • 22632 - Kids Infant Toddler Baby Boys Girls Cartoon Animals Anti-Slip Knitted Warm Socks Features: It is made of very high quality materials,soft hand feeling, no any harm to your baby's skin Lovely and charming design available,keep your baby feets soft,warm and comfortable,make your baby more lovely Product information: Material of socks:Cotton Blend Prefect for daily use and easy to take off or wear Great gift to baby Gender:Girls&amp;Boys Package content:1 Pair Socks Please note that slight color difference should be acceptable due to the light and screen.| Soft Comfortable Warm \n",
            " • 85123A - The sheerest compression stocking in its class is exactly what is states: sheer and soft. mediven sheer &amp; soft,which is virtually indistinguishable from regular hosiery, is specifically designed for fashion-conscious patients who demand the most durable, best-looking medical compression available. Ideal for both day and evening wear, only you and your patients will know that mediven sheer &amp; soft is a medical compression stocking.| Unequaled sheerness and softness Machine wash and tumble dry Easy to apply \n",
            " • 82483 - Remodelers, builders, and homeowners looking to enhance their next project by adding more curb appeal to the exterior of a home should consider crossheads. Crossheads are large casings that are typically placed at the top of a window, doorway or large entryway. Made of lightweight, yet durable high-density polyurethane, crossheads are easy for anyone to install. Feel free to choose from an amazing selection of sizes and style that will suit your project needs.| Comes factory primed and ready for your paint or stain Easily install it with fully bonded adhesive or nails Perfect for exterior and interior applications Composed of high-density polyurethane, making it a durable yet lightweight product Moisture, rot and termite resistant Customize with keystones, pilasters and pediments for an extraordinary look \n",
            " • 21068 - This mount consists of a zinc coated stainless steel u-bolt base, COMPOSITE double socket arm and diamond adapter base. The diamond adapter base has a hole pattern that matches the industry standard AMPS hole pattern and will connect to a large variety of RAM Mount and third party cradles. Included in this package is hardware that will accommodate rails from 0.5&quot; to 1.25&quot; in diameter. The mount is designed with a RAM 1&quot; diameter patented rubber ball and socket system that has adjustment points at both ends of the double socket arm; this allowing for almost infinite adjustment and perfect viewing angles.U-Bolt Dimensions:0.5&quot; to 1.25&quot;Cradle Features:1. Compatible with various iPad cable/docking accessories2. Patent pending roller design for super smooth placement and removal of the iPad3. High strength materials maximize longevity of cradle4. Full access to all ports5. Multiple attachment hole patterns for convenient articulation and viewing angles6. Lifetime warranty7. Made in the U.S.A.*Note: Will fit device without case, skin or sleeve.|Heavy Duty Handlebar Motorcycle Mount Holder Kit fits Apple iPad 2 3 &amp; 4\n"
          ]
        }
      ]
    },
    {
      "cell_type": "markdown",
      "source": [
        "# Step 3: Discussion of Results [20 points]\n",
        "\n",
        "Discuss the performance of the GCNN model compared to the Feedforward NeuMF model. Provide insights on which model performs better and why, based on the evaluation metrics. Consider aspects like Precision@K, Recall@K, and F1 score.\n",
        "\n",
        "Compare the recommended items for Customer 17850 generated by your model with those recommended by Neo4j. Are there similarities between the two sets of recommendations?"
      ],
      "metadata": {
        "id": "06lNrA-IjsPR"
      }
    },
    {
      "cell_type": "code",
      "source": [],
      "metadata": {
        "id": "8Y9tyyczxULT"
      },
      "execution_count": 10,
      "outputs": []
    },
    {
      "cell_type": "markdown",
      "source": [
        "Our evaluation shows that the graph-convolutional recommender has a modest but consistent edge over the feed-forward NeuMF baseline. When we look at the held-out test set, GCNN lifts Precision @ 10 from roughly 1.9 % to 2.2 %, pushes Recall @ 10 from about 3.3 % to 4.0 %, and nudges the F1 @ 10 from 0.020 to 0.023. Those gains may look small in absolute terms, but they are meaningful in a sparse retail catalogue: the GCNN surfaces ~15 % more truly relevant items in the top-10 list than the purely feed-forward alternative. The reason is intuitive—by propagating information over the user-item interaction graph, the GCNN captures second- and higher-order relationships (e.g., “customers who bought X also bought items that their neighbours liked”), something NeuMF’s dot-product-plus-MLP design cannot express as naturally. That richer signal translates into better coverage (higher recall) with only a slight cost in per-item precision, so the combined F1 moves up as well.\n",
        "\n",
        "Turning to Customer 17850, the two engines converge on a couple of clear favourites. Both lists include the Mediven Sheer & Soft compression stockings (StockCode 84879) and the MightySkins decal line (StockCode 22469), suggesting these items sit at the intersection of the customer’s own history and the broader neighbourhood’s purchasing patterns. Beyond that, each system explores different facets of taste: Neo4j highlights another MightySkins SKU (22470) and a pet hoodie (21754), while our GCNN proposes a high-end music box (22423) and several rustic-wood millwork pieces (21212, 22457, 23298). The overlap is therefore partial—about 20 % of the recommendations match exactly—indicating that the two models agree on some core preferences but still diversify in how they exploit the long tail of the catalogue."
      ],
      "metadata": {
        "id": "6U47CYrTxrvW"
      }
    },
    {
      "cell_type": "code",
      "source": [],
      "metadata": {
        "id": "GgTtJGXnxt5a"
      },
      "execution_count": 10,
      "outputs": []
    }
  ]
}