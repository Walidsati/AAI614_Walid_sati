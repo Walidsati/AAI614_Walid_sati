{
  "cells": [
    {
      "cell_type": "markdown",
      "metadata": {
        "id": "view-in-github",
        "colab_type": "text"
      },
      "source": [
        "<a href=\"https://colab.research.google.com/github/Walidsati/AAI614_Walid_sati/blob/main/notebook1_0.ipynb\" target=\"_parent\"><img src=\"https://colab.research.google.com/assets/colab-badge.svg\" alt=\"Open In Colab\"/></a>"
      ]
    },
    {
      "cell_type": "markdown",
      "metadata": {
        "id": "e5XGz1KnYKq4"
      },
      "source": [
        "\n",
        "# AAI614: Data Science & its Applications\n",
        "\n",
        "\n",
        "*Notebook 1.0: Using Jupyter Lab or Notebook*\n",
        "\n"
      ]
    },
    {
      "cell_type": "code",
      "source": [],
      "metadata": {
        "id": "wdd58n2rY-_0"
      },
      "execution_count": null,
      "outputs": []
    },
    {
      "cell_type": "markdown",
      "metadata": {
        "id": "aSDcDExIYKq5"
      },
      "source": [
        "A *Jupyter Notebook* is based on a client-server application that allows users to create, edit, and run notebooks via a **web browser**. A *notebook* is an executable document that is used for interactive development.  *Jupyter Notebook* runs on a computer (Linux, MacOS, or Windows) without Internet access.  It can be also installed on a remote server where it can accessed through the Internet.  A Jupyter Notebook is an essential tool that is being used by data scientists and machine learning engineers.  It is essentiual that you get get accustomed with the various commands in Jupyter prior to embarking on coding in Python for data science.   Let us walk thorugh these commands and see how this can be used.\n",
        "\n",
        "*Jupyter Notebook* has two main components: the kernels and the dashboard.  The **kernel** is a program that runs and introspects the user’s code. In our case, the kernel will interpret Python code, but there are also kernels available for other programming languages.  The **dashboard** shows the notebook documents that we create.  "
      ]
    },
    {
      "cell_type": "markdown",
      "metadata": {
        "id": "fVhNJqYOYKq6"
      },
      "source": [
        "A notebook consists of cells.   A cell can be either a **code cell** or a **markdown cell**."
      ]
    },
    {
      "cell_type": "markdown",
      "metadata": {
        "id": "ExePD8E9YKq6"
      },
      "source": [
        "A code cell contains actual code that we would like to execute.  We can either specify a cell as a *code cell* using the pulldown menu in the toolbar  or using the the short cut is **Esc - y**.  A code is executed by hitting Enter while holding down the Shift key (denoted **Shift + Enter**).  Code cells are executed in the order we **Shift+Enter** them. A markdown cell uses **markdown** which is a lightweight Markup language with a plain text syntax that was developed by John Gruber in 2004.  Markdown is designed to be as easy-to-read and easy-to-write as possible.  In fact, this cell uses markup.  We will not be able to go over the markdown language at length but it is recommended that you do.  Let us see an example on how we use *code cells* and *markdown cells.*"
      ]
    },
    {
      "cell_type": "markdown",
      "metadata": {
        "id": "vBDpD-lkYKq6"
      },
      "source": [
        "## Starting Jupyter Notebooks"
      ]
    },
    {
      "cell_type": "markdown",
      "metadata": {
        "id": "9d4v3eXWYKq6"
      },
      "source": [
        "If you would like to use *Jupyter Notebook* on your own PC, run the following command:"
      ]
    },
    {
      "cell_type": "markdown",
      "metadata": {
        "id": "zxEhp486YKq6"
      },
      "source": [
        "<blockquote> jupyter notebook"
      ]
    },
    {
      "cell_type": "markdown",
      "metadata": {
        "id": "ny9agnULYKq6"
      },
      "source": [
        "You would see the following address: http://localhost:8888 at the browser tab as shown below:"
      ]
    },
    {
      "cell_type": "markdown",
      "metadata": {
        "id": "4xPTlvVSYKq6"
      },
      "source": [
        "## Let us try it out"
      ]
    },
    {
      "cell_type": "markdown",
      "metadata": {
        "id": "jWtwhLQ4YKq6"
      },
      "source": [
        "A markdown cell is typically used to document the code and explain the steps.  They can be also used to analyze the results.  let us see the below examples:"
      ]
    },
    {
      "cell_type": "markdown",
      "metadata": {
        "id": "8OZ9JTQsYKq6"
      },
      "source": [
        "Let us start by importing the needed *numpy* and *matplotlib*"
      ]
    },
    {
      "cell_type": "code",
      "execution_count": null,
      "metadata": {
        "id": "1tb2t6TjYKq7"
      },
      "outputs": [],
      "source": [
        "import numpy as np\n",
        "from numpy.polynomial.polynomial import polyfit\n",
        "import matplotlib.pyplot as plt"
      ]
    },
    {
      "cell_type": "markdown",
      "metadata": {
        "id": "AuRAKULDYKq7"
      },
      "source": [
        "Let us try to *linearly* fit a set of data points using $\\hat{y} = x * m + b$ (notice the look if the equation).  This means we need to determine the appropriate valuye for **b** and **m**:\n"
      ]
    },
    {
      "cell_type": "code",
      "execution_count": null,
      "metadata": {
        "id": "XtnfSE7QYKq7"
      },
      "outputs": [],
      "source": [
        "b = 14.45 # 14.45  # -2 to start, change me please\n",
        "m = 5.12 # 5.12  # 40 to start, change me please"
      ]
    },
    {
      "cell_type": "markdown",
      "metadata": {
        "id": "6_Grs0_eYKq7"
      },
      "source": [
        "Let us use the following sample data:"
      ]
    },
    {
      "cell_type": "code",
      "execution_count": null,
      "metadata": {
        "id": "rasb4_csYKq7"
      },
      "outputs": [],
      "source": [
        "x = np.array([ 0,  1,  2,  3,  4,  5,  6,  7,  8,  9])\n",
        "y = np.array([10, 20, 25, 30, 40, 45, 40, 50, 60, 55])\n",
        "y_hat = x * m + b"
      ]
    },
    {
      "cell_type": "markdown",
      "metadata": {
        "id": "8ruCpx3NYKq8"
      },
      "source": [
        "Let us see how the line fits using a plot:"
      ]
    },
    {
      "cell_type": "code",
      "execution_count": null,
      "metadata": {
        "colab": {
          "base_uri": "https://localhost:8080/",
          "height": 430
        },
        "id": "LpsNUbFBYKq8",
        "outputId": "64ceaea4-1627-48fd-b314-088e88d32bd8"
      },
      "outputs": [
        {
          "output_type": "display_data",
          "data": {
            "text/plain": [
              "<Figure size 640x480 with 1 Axes>"
            ],
            "image/png": "[encoded data removed]"
          },
          "metadata": {}
        }
      ],
      "source": [
        "plt.plot(x, y, '.')\n",
        "plt.plot(x, y_hat, '-')\n",
        "plt.show()"
      ]
    },
    {
      "cell_type": "markdown",
      "metadata": {
        "id": "XLhDfjh8YKq8"
      },
      "source": [
        "Let us see what the loss is:"
      ]
    },
    {
      "cell_type": "code",
      "execution_count": null,
      "metadata": {
        "colab": {
          "base_uri": "https://localhost:8080/"
        },
        "id": "YP0ZD4bWYKq8",
        "outputId": "b2ded30e-5715-4955-ca0d-589377f2030f"
      },
      "outputs": [
        {
          "output_type": "stream",
          "name": "stdout",
          "text": [
            "Loss: 14.87890000000001\n"
          ]
        }
      ],
      "source": [
        "print(\"Loss:\", np.sum((y - y_hat)**2)/len(x))"
      ]
    },
    {
      "cell_type": "markdown",
      "metadata": {
        "id": "Jq_D2bEXYKq8"
      },
      "source": [
        "Now, let us determine a and b automtically using the Python function **polyfit**:"
      ]
    },
    {
      "cell_type": "code",
      "execution_count": null,
      "metadata": {
        "colab": {
          "base_uri": "https://localhost:8080/"
        },
        "id": "pB53R1SQYKq8",
        "outputId": "a9c55497-6761-4d89-c672-371d51ddae37"
      },
      "outputs": [
        {
          "output_type": "stream",
          "name": "stdout",
          "text": [
            "[14.45454545  5.12121212]\n"
          ]
        }
      ],
      "source": [
        "model = polyfit(x,y,1)\n",
        "print(model)"
      ]
    },
    {
      "cell_type": "markdown",
      "metadata": {
        "id": "KcbLj05yYKq8"
      },
      "source": [
        "Try it again using the above values and see what happens!"
      ]
    },
    {
      "cell_type": "markdown",
      "metadata": {
        "id": "iNz3HarwYKq8"
      },
      "source": [
        "# Before we go, let's talk about magic functions!"
      ]
    },
    {
      "cell_type": "markdown",
      "metadata": {
        "id": "m72JIR5fYKq8"
      },
      "source": [
        "## Running External Code: ``%run``\n",
        "As you begin developing more extensive code, you will likely find yourself working in both IPython for interactive exploration, as well as a text editor to store code that you want to reuse.\n",
        "Rather than running this code in a new window, it can be convenient to run it within your IPython session.\n",
        "This can be done with the ``%run`` magic.\n",
        "\n",
        "For example, imagine you've created a ``myscript.py`` file with the following contents:\n",
        "\n",
        "```python\n",
        "#-------------------------------------\n",
        "# file: myscript.py\n",
        "\n",
        "def square(x):\n",
        "    \"\"\"square a number\"\"\"\n",
        "    return x ** 2\n",
        "\n",
        "for N in range(1, 4):\n",
        "    print(N, \"squared is\", square(N))\n",
        "```\n",
        "\n",
        "You can execute this from your IPython session as follows:\n",
        "\n",
        "```ipython\n",
        "In [6]: %run myscript.py\n",
        "1 squared is 1\n",
        "2 squared is 4\n",
        "3 squared is 9\n",
        "```\n",
        "\n",
        "Note also that after you've run this script, any functions defined within it are available for use in your IPython session:\n",
        "\n",
        "```ipython\n",
        "In [7]: square(5)\n",
        "Out[7]: 25\n",
        "```\n",
        "\n",
        "There are several options to fine-tune how your code is run; you can see the documentation in the normal way, by typing **``%run?``** in the IPython interpreter."
      ]
    },
    {
      "cell_type": "markdown",
      "metadata": {
        "id": "6XTvlegrYKq8"
      },
      "source": [
        "## Timing: %timeit"
      ]
    },
    {
      "cell_type": "markdown",
      "metadata": {
        "id": "Igae-HpzYKq8"
      },
      "source": [
        "The %timeit times the execution of a Python statement or expression."
      ]
    },
    {
      "cell_type": "code",
      "execution_count": null,
      "metadata": {
        "colab": {
          "base_uri": "https://localhost:8080/"
        },
        "id": "TZMuwkOyYKq8",
        "outputId": "ecce151f-7667-467b-8b67-0065495ef67d"
      },
      "outputs": [
        {
          "output_type": "stream",
          "name": "stdout",
          "text": [
            "2.75 µs ± 345 ns per loop (mean ± std. dev. of 7 runs, 100000 loops each)\n"
          ]
        }
      ],
      "source": [
        "%timeit sum(range(100))"
      ]
    },
    {
      "cell_type": "markdown",
      "metadata": {
        "id": "kEgKtZ3uYKq8"
      },
      "source": [
        "Another more complex example:"
      ]
    },
    {
      "cell_type": "code",
      "execution_count": null,
      "metadata": {
        "colab": {
          "base_uri": "https://localhost:8080/"
        },
        "id": "KC0qXTaqYKq8",
        "outputId": "98b9b1e5-4861-4a45-d118-07317c6dab45"
      },
      "outputs": [
        {
          "output_type": "stream",
          "name": "stdout",
          "text": [
            "1.16 s ± 180 ms per loop (mean ± std. dev. of 7 runs, 1 loop each)\n"
          ]
        }
      ],
      "source": [
        "%%timeit\n",
        "total = 0\n",
        "for i in range(1000):\n",
        "    for j in range(1000):\n",
        "        total += i * (-1) ** j"
      ]
    },
    {
      "cell_type": "markdown",
      "metadata": {
        "id": "r528h2AlYKq8"
      },
      "source": [
        "## Profiling Full Scripts: %prun"
      ]
    },
    {
      "cell_type": "markdown",
      "metadata": {
        "id": "0IfUx47vYKq9"
      },
      "source": [
        "%prun allows the programmer to use a profiler.  Let us see a quick example by defining a simple function that does some calculations:"
      ]
    },
    {
      "cell_type": "code",
      "execution_count": null,
      "metadata": {
        "id": "TR0vgCtxYKq9"
      },
      "outputs": [],
      "source": [
        "def sum_of_lists(N):\n",
        "    total = 0\n",
        "    for i in range(5):\n",
        "        L = [j ^ (j >> i) for j in range(N)]\n",
        "        total += sum(L)\n",
        "    return total"
      ]
    },
    {
      "cell_type": "code",
      "execution_count": null,
      "metadata": {
        "colab": {
          "base_uri": "https://localhost:8080/"
        },
        "id": "dlIPHQc5YKq9",
        "outputId": "62674552-681e-4a4d-d21c-1d4b72d2d9dc"
      },
      "outputs": [
        {
          "output_type": "stream",
          "name": "stdout",
          "text": [
            " "
          ]
        }
      ],
      "source": [
        "%prun sum_of_lists(1000000)"
      ]
    },
    {
      "cell_type": "markdown",
      "metadata": {
        "id": "HsqKUyG0YKq9"
      },
      "source": [
        "The above result is a table that indicates, in order of total time on each function call, where the execution is spending the most time. In this case, the bulk of execution time is in the list comprehension inside sum_of_lists. From here, we could start thinking about what changes we might make to improve the performance in the algorithm."
      ]
    },
    {
      "cell_type": "markdown",
      "metadata": {
        "id": "l8wrqqU8YKq9"
      },
      "source": [
        "## Writing the Content of a Cell to a File: %%writefile"
      ]
    },
    {
      "cell_type": "markdown",
      "metadata": {
        "id": "YvXcHENMYKq9"
      },
      "source": [
        "What if you want to write the content of a cell to a file?  Easy.  We can use the **%%writefile** magic function.  Make sure it is the first line in the cell!"
      ]
    },
    {
      "cell_type": "code",
      "execution_count": null,
      "metadata": {
        "colab": {
          "base_uri": "https://localhost:8080/"
        },
        "id": "b-kMStL1YKq9",
        "outputId": "ecd7c967-1034-4b6b-a4d7-0bc7c4dcbb5d"
      },
      "outputs": [
        {
          "output_type": "stream",
          "name": "stdout",
          "text": [
            "Writing sum_of_lists.py\n"
          ]
        }
      ],
      "source": [
        "%%writefile sum_of_lists.py\n",
        "def sum_of_lists(N):\n",
        "    total = 0\n",
        "    for i in range(5):\n",
        "        L = [j ^ (j >> i) for j in range(N)]\n",
        "        total += sum(L)\n",
        "    return total"
      ]
    },
    {
      "cell_type": "markdown",
      "metadata": {
        "id": "VEftPT2BYKq9"
      },
      "source": [
        "The above example writes the content of a cell to the file **sum_of_lists.py**"
      ]
    },
    {
      "cell_type": "markdown",
      "metadata": {
        "id": "rxiNsC7WYKrC"
      },
      "source": [
        "## Help on Magic Functions: ``?``, ``%magic``, and ``%lsmagic``"
      ]
    },
    {
      "cell_type": "markdown",
      "metadata": {
        "id": "5wqTCk9cYKrC"
      },
      "source": [
        "For a quick and simple list of all available magic functions, type this:"
      ]
    },
    {
      "cell_type": "code",
      "execution_count": null,
      "metadata": {
        "colab": {
          "base_uri": "https://localhost:8080/",
          "height": 285
        },
        "id": "9Hsv9yMlYKrC",
        "outputId": "6a834eb5-5404-4c52-a9e9-e33a57760018"
      },
      "outputs": [
        {
          "output_type": "execute_result",
          "data": {
            "text/plain": [
              "Available line magics:\n",
              "%alias  %alias_magic  %autoawait  %autocall  %automagic  %autosave  %bookmark  %cat  %cd  %clear  %colors  %conda  %config  %connect_info  %cp  %debug  %dhist  %dirs  %doctest_mode  %ed  %edit  %env  %gui  %hist  %history  %killbgscripts  %ldir  %less  %lf  %lk  %ll  %load  %load_ext  %loadpy  %logoff  %logon  %logstart  %logstate  %logstop  %ls  %lsmagic  %lx  %macro  %magic  %man  %matplotlib  %mkdir  %more  %mv  %notebook  %page  %pastebin  %pdb  %pdef  %pdoc  %pfile  %pinfo  %pinfo2  %pip  %popd  %pprint  %precision  %prun  %psearch  %psource  %pushd  %pwd  %pycat  %pylab  %qtconsole  %quickref  %recall  %rehashx  %reload_ext  %rep  %rerun  %reset  %reset_selective  %rm  %rmdir  %run  %save  %sc  %set_env  %shell  %store  %sx  %system  %tb  %tensorflow_version  %time  %timeit  %unalias  %unload_ext  %who  %who_ls  %whos  %xdel  %xmode\n",
              "\n",
              "Available cell magics:\n",
              "%%!  %%HTML  %%SVG  %%bash  %%bigquery  %%capture  %%debug  %%file  %%html  %%javascript  %%js  %%latex  %%markdown  %%perl  %%prun  %%pypy  %%python  %%python2  %%python3  %%ruby  %%script  %%sh  %%shell  %%svg  %%sx  %%system  %%time  %%timeit  %%writefile\n",
              "\n",
              "Automagic is ON, % prefix IS NOT needed for line magics."
            ],
            "application/json": {
              "line": {
                "automagic": "AutoMagics",
                "autocall": "AutoMagics",
                "alias_magic": "BasicMagics",
                "lsmagic": "BasicMagics",
                "magic": "BasicMagics",
                "page": "BasicMagics",
                "pprint": "BasicMagics",
                "colors": "BasicMagics",
                "xmode": "BasicMagics",
                "quickref": "BasicMagics",
                "doctest_mode": "BasicMagics",
                "gui": "BasicMagics",
                "precision": "BasicMagics",
                "notebook": "BasicMagics",
                "save": "CodeMagics",
                "pastebin": "CodeMagics",
                "loadpy": "CodeMagics",
                "load": "CodeMagics",
                "edit": "KernelMagics",
                "config": "ConfigMagics",
                "prun": "ExecutionMagics",
                "pdb": "ExecutionMagics",
                "debug": "ExecutionMagics",
                "tb": "ExecutionMagics",
                "run": "ExecutionMagics",
                "timeit": "ExecutionMagics",
                "time": "ExecutionMagics",
                "macro": "ExecutionMagics",
                "load_ext": "ExtensionMagics",
                "unload_ext": "ExtensionMagics",
                "reload_ext": "ExtensionMagics",
                "history": "HistoryMagics",
                "recall": "HistoryMagics",
                "rerun": "HistoryMagics",
                "logstart": "LoggingMagics",
                "logstop": "LoggingMagics",
                "logoff": "LoggingMagics",
                "logon": "LoggingMagics",
                "logstate": "LoggingMagics",
                "pinfo": "NamespaceMagics",
                "pinfo2": "NamespaceMagics",
                "pdef": "NamespaceMagics",
                "pdoc": "NamespaceMagics",
                "psource": "NamespaceMagics",
                "pfile": "NamespaceMagics",
                "psearch": "NamespaceMagics",
                "who_ls": "NamespaceMagics",
                "who": "NamespaceMagics",
                "whos": "NamespaceMagics",
                "reset": "NamespaceMagics",
                "reset_selective": "NamespaceMagics",
                "xdel": "NamespaceMagics",
                "alias": "OSMagics",
                "unalias": "OSMagics",
                "rehashx": "OSMagics",
                "pwd": "OSMagics",
                "cd": "OSMagics",
                "env": "OSMagics",
                "set_env": "OSMagics",
                "pushd": "OSMagics",
                "popd": "OSMagics",
                "dirs": "OSMagics",
                "dhist": "OSMagics",
                "sc": "OSMagics",
                "sx": "OSMagics",
                "system": "OSMagics",
                "bookmark": "OSMagics",
                "pycat": "OSMagics",
                "pip": "Other",
                "conda": "PackagingMagics",
                "matplotlib": "PylabMagics",
                "pylab": "PylabMagics",
                "killbgscripts": "ScriptMagics",
                "autoawait": "AsyncMagics",
                "ed": "Other",
                "hist": "Other",
                "rep": "Other",
                "clear": "KernelMagics",
                "less": "KernelMagics",
                "more": "KernelMagics",
                "man": "KernelMagics",
                "connect_info": "KernelMagics",
                "qtconsole": "KernelMagics",
                "autosave": "KernelMagics",
                "mkdir": "Other",
                "rmdir": "Other",
                "mv": "Other",
                "rm": "Other",
                "cp": "Other",
                "cat": "Other",
                "ls": "Other",
                "ll": "Other",
                "lf": "Other",
                "lk": "Other",
                "ldir": "Other",
                "lx": "Other",
                "store": "StoreMagics",
                "shell": "Other",
                "tensorflow_version": "Other"
              },
              "cell": {
                "js": "DisplayMagics",
                "javascript": "DisplayMagics",
                "latex": "DisplayMagics",
                "svg": "DisplayMagics",
                "html": "DisplayMagics",
                "markdown": "DisplayMagics",
                "prun": "ExecutionMagics",
                "debug": "ExecutionMagics",
                "timeit": "ExecutionMagics",
                "time": "ExecutionMagics",
                "capture": "ExecutionMagics",
                "sx": "OSMagics",
                "system": "OSMagics",
                "!": "OSMagics",
                "writefile": "OSMagics",
                "script": "ScriptMagics",
                "sh": "Other",
                "bash": "Other",
                "perl": "Other",
                "ruby": "Other",
                "python": "Other",
                "python2": "Other",
                "python3": "Other",
                "pypy": "Other",
                "SVG": "Other",
                "HTML": "Other",
                "file": "Other",
                "bigquery": "Other",
                "shell": "Other"
              }
            }
          },
          "metadata": {},
          "execution_count": 12
        }
      ],
      "source": [
        "%lsmagic"
      ]
    },
    {
      "cell_type": "markdown",
      "metadata": {
        "id": "0KN_wa3tYKrD"
      },
      "source": [
        "If all fails, you can get help using the IPython magic functions docstrings, and this useful\n",
        "documentation can be accessed in the standard manner.  So, for example, to read the documentation of the ``%timeit`` magic simply type this:"
      ]
    },
    {
      "cell_type": "code",
      "execution_count": null,
      "metadata": {
        "id": "wqmpcCYZYKrD"
      },
      "outputs": [],
      "source": [
        "%timeit?"
      ]
    },
    {
      "cell_type": "markdown",
      "metadata": {
        "id": "igSJ5cf-YKrD"
      },
      "source": [
        "Documentation for other functions can be accessed similarly.  To access a general description of available magic functions, including some examples, you can type this:"
      ]
    },
    {
      "cell_type": "code",
      "execution_count": null,
      "metadata": {
        "id": "MmUV2at-YKrD"
      },
      "outputs": [],
      "source": [
        "%magic"
      ]
    },
    {
      "cell_type": "code",
      "source": [],
      "metadata": {
        "id": "ETgz4RD3Yg5J"
      },
      "execution_count": null,
      "outputs": []
    }
  ],
  "metadata": {
    "kernelspec": {
      "display_name": "Python 3",
      "language": "python",
      "name": "python3"
    },
    "language_info": {
      "codemirror_mode": {
        "name": "ipython",
        "version": 3
      },
      "file_extension": ".py",
      "mimetype": "text/x-python",
      "name": "python",
      "nbconvert_exporter": "python",
      "pygments_lexer": "ipython3",
      "version": "3.9.6"
    },
    "colab": {
      "provenance": [],
      "include_colab_link": true
    }
  },
  "nbformat": 4,
  "nbformat_minor": 0
}