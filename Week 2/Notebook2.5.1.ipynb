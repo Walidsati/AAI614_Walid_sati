{
  "cells": [
    {
      "cell_type": "markdown",
      "metadata": {
        "id": "view-in-github",
        "colab_type": "text"
      },
      "source": [
        "<a href=\"https://colab.research.google.com/github/Walidsati/AAI614_Walid_sati/blob/main/Week%202/Notebook2.5.1.ipynb\" target=\"_parent\"><img src=\"https://colab.research.google.com/assets/colab-badge.svg\" alt=\"Open In Colab\"/></a>"
      ]
    },
    {
      "cell_type": "markdown",
      "metadata": {
        "id": "g9p7YXRC6CLX"
      },
      "source": [
        "# AAI614: Data Science & its Applications\n",
        "\n",
        "*Notebook 2.5: Practice with Parquet and File Types*\n"
      ]
    },
    {
      "cell_type": "code",
      "execution_count": 1,
      "metadata": {
        "id": "6hnZYjU46CLZ"
      },
      "outputs": [],
      "source": [
        "import pandas as pd\n",
        "import time\n",
        "import ssl\n",
        "\n",
        "ssl._create_default_https_context = ssl._create_unverified_context"
      ]
    },
    {
      "cell_type": "code",
      "execution_count": 2,
      "metadata": {
        "id": "6X1L1_qx6CLZ"
      },
      "outputs": [],
      "source": [
        "class Timer:\n",
        "    def __enter__(self):\n",
        "        self.start = time.perf_counter()\n",
        "        return self\n",
        "\n",
        "    def __exit__(self, *args):\n",
        "        self.end = time.perf_counter()\n",
        "        self.interval = self.end - self.start"
      ]
    },
    {
      "cell_type": "markdown",
      "metadata": {
        "id": "IUX_OvO06CLa"
      },
      "source": [
        "##### Read the Parqeut file and time it"
      ]
    },
    {
      "cell_type": "code",
      "execution_count": 3,
      "metadata": {
        "colab": {
          "base_uri": "https://localhost:8080/"
        },
        "id": "8M3eizEK6CLa",
        "outputId": "bfb869f2-7d8b-47f4-9551-e8b993246c37"
      },
      "outputs": [
        {
          "output_type": "stream",
          "name": "stdout",
          "text": [
            "0.26956856600008905\n"
          ]
        }
      ],
      "source": [
        "with Timer() as t_pd:\n",
        "    df = pd.read_parquet('https://raw.githubusercontent.com/harmanani/AAI614/main/Week%202/niaaa-report.parquet')\n",
        "print(t_pd.interval)"
      ]
    },
    {
      "cell_type": "markdown",
      "metadata": {
        "id": "SNXKyhvY6CLa"
      },
      "source": [
        "#### Read the CSV file and time it"
      ]
    },
    {
      "cell_type": "code",
      "execution_count": 4,
      "metadata": {
        "colab": {
          "base_uri": "https://localhost:8080/"
        },
        "id": "kp8N-usY6CLa",
        "outputId": "237dd2f1-4b84-45a2-db46-e54d2388f6cc"
      },
      "outputs": [
        {
          "output_type": "stream",
          "name": "stdout",
          "text": [
            "0.1427895259998877\n"
          ]
        }
      ],
      "source": [
        "with Timer() as t_pd:\n",
        "    df = pd.read_csv('https://raw.githubusercontent.com/harmanani/AAI614/main/Week%202/niaaa-report.csv')\n",
        "print(t_pd.interval)"
      ]
    },
    {
      "cell_type": "markdown",
      "metadata": {
        "id": "vm7ILoIM6CLa"
      },
      "source": [
        "#### Read the ZIP file and time it"
      ]
    },
    {
      "cell_type": "code",
      "execution_count": 5,
      "metadata": {
        "colab": {
          "base_uri": "https://localhost:8080/"
        },
        "id": "Je156U2h6CLa",
        "outputId": "943c6958-e80b-417f-f95b-dab78933d01a"
      },
      "outputs": [
        {
          "output_type": "stream",
          "name": "stdout",
          "text": [
            "0.15220395400001507\n"
          ]
        }
      ],
      "source": [
        "import zipfile\n",
        "with Timer() as t_pd:\n",
        "    df = pd.read_csv('https://raw.githubusercontent.com/harmanani/AAI614/main/Week%202/niaaa-report.zip', compression=\"zip\")\n",
        "print(t_pd.interval)"
      ]
    },
    {
      "cell_type": "code",
      "source": [],
      "metadata": {
        "id": "L1n2nysPAnAr"
      },
      "execution_count": 5,
      "outputs": []
    },
    {
      "cell_type": "markdown",
      "source": [
        "Import csv dataset from kaggle (500 MB)"
      ],
      "metadata": {
        "id": "xRkq7fXEBI9F"
      }
    },
    {
      "cell_type": "code",
      "source": [
        "import pandas as pd\n",
        "#convert the csv to Zip\n",
        "df = pd.read_csv('https://www.kaggle.com/datasets/ryanholbrook/dl-course-data?select=songs.csv', sep=',', on_bad_lines='skip')\n",
        "df.to_csv('songs.zip', compression=\"zip\", index=False)"
      ],
      "metadata": {
        "id": "5NsC6c_r83bE"
      },
      "execution_count": 6,
      "outputs": []
    },
    {
      "cell_type": "code",
      "source": [
        "import pandas as pd\n",
        "#convert the csv to parquet\n",
        "df = pd.read_csv('https://www.kaggle.com/datasets/ryanholbrook/dl-course-data?select=songs.csv', sep=',', on_bad_lines='skip')\n",
        "df.to_parquet('songs.parquet')"
      ],
      "metadata": {
        "id": "fHTbfK-583gx"
      },
      "execution_count": 7,
      "outputs": []
    },
    {
      "cell_type": "markdown",
      "source": [
        "Read the CSV file and time it"
      ],
      "metadata": {
        "id": "am0knt6VBJuC"
      }
    },
    {
      "cell_type": "code",
      "source": [
        "with Timer() as t_pd:\n",
        "    df = pd.read_csv('https://www.kaggle.com/datasets/ryanholbrook/dl-course-data?select=songs.csv', sep=',', on_bad_lines='skip')\n",
        "print(t_pd.interval)"
      ],
      "metadata": {
        "id": "6ABZ4c_H83OV",
        "outputId": "ffffa4c5-471a-4a39-beba-7dff95bb25ef",
        "colab": {
          "base_uri": "https://localhost:8080/"
        }
      },
      "execution_count": 8,
      "outputs": [
        {
          "output_type": "stream",
          "name": "stdout",
          "text": [
            "0.11144157200033078\n"
          ]
        }
      ]
    },
    {
      "cell_type": "markdown",
      "source": [
        "Read the Zip file and time it"
      ],
      "metadata": {
        "id": "i0nzRynABnMw"
      }
    },
    {
      "cell_type": "code",
      "source": [
        "import zipfile\n",
        "with Timer() as t_pd:\n",
        "    df = pd.read_csv('songs.zip')\n",
        "print(t_pd.interval)"
      ],
      "metadata": {
        "id": "AGCoGyqG83d-",
        "outputId": "a32e3826-5663-4398-a0d8-8866265a8c1f",
        "colab": {
          "base_uri": "https://localhost:8080/"
        }
      },
      "execution_count": 9,
      "outputs": [
        {
          "output_type": "stream",
          "name": "stdout",
          "text": [
            "0.007867751000048884\n"
          ]
        }
      ]
    },
    {
      "cell_type": "markdown",
      "source": [
        "Read the parquet file and time it"
      ],
      "metadata": {
        "id": "_Veh9hutBp5a"
      }
    },
    {
      "cell_type": "code",
      "source": [
        "with Timer() as t_pd:\n",
        "    df = pd.read_parquet('songs.parquet')\n",
        "print(t_pd.interval)"
      ],
      "metadata": {
        "id": "UclTu0If83jp",
        "outputId": "27afccbc-9e66-4dc6-f0bc-2871a32d3782",
        "colab": {
          "base_uri": "https://localhost:8080/"
        }
      },
      "execution_count": 10,
      "outputs": [
        {
          "output_type": "stream",
          "name": "stdout",
          "text": [
            "0.004791492000094877\n"
          ]
        }
      ]
    },
    {
      "cell_type": "markdown",
      "metadata": {
        "id": "PcafLJG16CLb"
      },
      "source": []
    }
  ],
  "metadata": {
    "kernelspec": {
      "display_name": "Python 3",
      "language": "python",
      "name": "python3"
    },
    "language_info": {
      "codemirror_mode": {
        "name": "ipython",
        "version": 3
      },
      "file_extension": ".py",
      "mimetype": "text/x-python",
      "name": "python",
      "nbconvert_exporter": "python",
      "pygments_lexer": "ipython3",
      "version": "3.10.11"
    },
    "colab": {
      "provenance": [],
      "include_colab_link": true
    }
  },
  "nbformat": 4,
  "nbformat_minor": 0
}