{
  "cells": [
    {
      "cell_type": "markdown",
      "metadata": {
        "id": "view-in-github",
        "colab_type": "text"
      },
      "source": [
        "<a href=\"https://colab.research.google.com/github/Walidsati/AAI614_Walid_sati/blob/main/Week%207/Notebook7.3.ipynb\" target=\"_parent\"><img src=\"https://colab.research.google.com/assets/colab-badge.svg\" alt=\"Open In Colab\"/></a>"
      ]
    },
    {
      "cell_type": "markdown",
      "metadata": {
        "id": "S1dfT7vlIN85"
      },
      "source": [
        "# AAI614: Data Science & its Applications\n",
        "\n",
        "*Notebook 7.3: Dask-ML*\n",
        "\n",
        "<a href=\"https://colab.research.google.com/github/harmanani/AAI614/blob/main/Week%207/Notebook7.3.ipynb\" target=\"_parent\"><img src=\"https://colab.research.google.com/assets/colab-badge.svg\" alt=\"Open In Colab\"/></a>\n",
        "\n",
        "Source: Data Science with Python and Dask"
      ]
    },
    {
      "cell_type": "code",
      "execution_count": 3,
      "metadata": {
        "id": "a1xKvcpnIN87"
      },
      "outputs": [],
      "source": [
        "import dask.bag as bag\n",
        "import os\n",
        "from dask.diagnostics import ProgressBar\n",
        "\n",
        "# Get the foods dataset from https://snap.stanford.edu/data/web-FineFoods.html\n",
        "raw_data = bag.read_text('foods.txt')\n",
        "\n",
        "\n",
        "\n",
        "def get_next_part(file, start_index, span_index=0, blocksize=1024):\n",
        "    file.seek(start_index)\n",
        "    # Increase the initial blocksize to potentially capture the delimiter\n",
        "    buffer = file.read(blocksize * 4 + span_index).decode('cp1252', errors='ignore')\n",
        "    delimiter_position = buffer.find('\\n\\n')\n",
        "    if delimiter_position == -1 and start_index + blocksize * 4 + span_index < file.seek(0, 2):\n",
        "        # Only recurse if the end of file has not been reached\n",
        "        return get_next_part(file, start_index, span_index + blocksize * 4)\n",
        "    else:\n",
        "        file.seek(start_index)\n",
        "        return start_index, delimiter_position if delimiter_position != -1 else len(buffer)\n",
        "\n",
        "# ... (rest of the code remains the same)\n",
        "\n",
        "def get_item(filename, start_index, delimiter_position, encoding='cp1252'):\n",
        "    with open(filename, 'rb') as file_handle:\n",
        "        file_handle.seek(start_index)\n",
        "        text = file_handle.read(delimiter_position).decode(encoding)\n",
        "        elements = text.strip().split('\\n')\n",
        "        key_value_pairs = [(element.split(': ')[0], element.split(': ')[1])\n",
        "                               if len(element.split(': ')) > 1\n",
        "                               else ('unknown', element)\n",
        "                               for element in elements]\n",
        "        return dict(key_value_pairs)\n",
        "\n",
        "with open('foods.txt', 'rb') as file_handle:\n",
        "    size = file_handle.seek(0,2) - 1\n",
        "    more_data = True\n",
        "    output = []\n",
        "    current_position = next_position = 0\n",
        "    while more_data:\n",
        "        if current_position >= size:\n",
        "            more_data = False\n",
        "        else:\n",
        "            current_position, next_position = get_next_part(file_handle, current_position, 0)\n",
        "            output.append((current_position, next_position))\n",
        "            current_position = current_position + next_position + 2\n",
        "\n",
        "reviews = bag.from_sequence(output).map(lambda x: get_item('foods.txt', x[0], x[1]))\n",
        "\n",
        "def tag_positive_negative_by_score(element):\n",
        "    if float(element['review/score']) > 3:\n",
        "        element['review/sentiment'] = 'positive'\n",
        "    else:\n",
        "        element['review/sentiment'] = 'negative'\n",
        "    return element\n",
        "\n",
        "tagged_reviews = reviews.map(tag_positive_negative_by_score)"
      ]
    },
    {
      "cell_type": "code",
      "execution_count": 4,
      "metadata": {
        "id": "u2zqO0pFIN89",
        "outputId": "9060d2fb-ad52-46cb-8a15-4ec021190cee",
        "colab": {
          "base_uri": "https://localhost:8080/",
          "height": 1000
        }
      },
      "outputs": [
        {
          "output_type": "error",
          "ename": "LookupError",
          "evalue": "\n**********************************************************************\n  Resource \u001b[93mstopwords\u001b[0m not found.\n  Please use the NLTK Downloader to obtain the resource:\n\n  \u001b[31m>>> import nltk\n  >>> nltk.download('stopwords')\n  \u001b[0m\n  For more information see: https://www.nltk.org/data.html\n\n  Attempted to load \u001b[93mcorpora/stopwords\u001b[0m\n\n  Searched in:\n    - '/root/nltk_data'\n    - '/usr/nltk_data'\n    - '/usr/share/nltk_data'\n    - '/usr/lib/nltk_data'\n    - '/usr/share/nltk_data'\n    - '/usr/local/share/nltk_data'\n    - '/usr/lib/nltk_data'\n    - '/usr/local/lib/nltk_data'\n**********************************************************************\n",
          "traceback": [
            "\u001b[0;31m---------------------------------------------------------------------------\u001b[0m",
            "\u001b[0;31mLookupError\u001b[0m                               Traceback (most recent call last)",
            "\u001b[0;32m/usr/local/lib/python3.10/dist-packages/nltk/corpus/util.py\u001b[0m in \u001b[0;36m__load\u001b[0;34m(self)\u001b[0m\n\u001b[1;32m     83\u001b[0m                 \u001b[0;32mtry\u001b[0m\u001b[0;34m:\u001b[0m\u001b[0;34m\u001b[0m\u001b[0;34m\u001b[0m\u001b[0m\n\u001b[0;32m---> 84\u001b[0;31m                     \u001b[0mroot\u001b[0m \u001b[0;34m=\u001b[0m \u001b[0mnltk\u001b[0m\u001b[0;34m.\u001b[0m\u001b[0mdata\u001b[0m\u001b[0;34m.\u001b[0m\u001b[0mfind\u001b[0m\u001b[0;34m(\u001b[0m\u001b[0;34mf\"{self.subdir}/{zip_name}\"\u001b[0m\u001b[0;34m)\u001b[0m\u001b[0;34m\u001b[0m\u001b[0;34m\u001b[0m\u001b[0m\n\u001b[0m\u001b[1;32m     85\u001b[0m                 \u001b[0;32mexcept\u001b[0m \u001b[0mLookupError\u001b[0m\u001b[0;34m:\u001b[0m\u001b[0;34m\u001b[0m\u001b[0;34m\u001b[0m\u001b[0m\n",
            "\u001b[0;32m/usr/local/lib/python3.10/dist-packages/nltk/data.py\u001b[0m in \u001b[0;36mfind\u001b[0;34m(resource_name, paths)\u001b[0m\n\u001b[1;32m    578\u001b[0m     \u001b[0mresource_not_found\u001b[0m \u001b[0;34m=\u001b[0m \u001b[0;34mf\"\\n{sep}\\n{msg}\\n{sep}\\n\"\u001b[0m\u001b[0;34m\u001b[0m\u001b[0;34m\u001b[0m\u001b[0m\n\u001b[0;32m--> 579\u001b[0;31m     \u001b[0;32mraise\u001b[0m \u001b[0mLookupError\u001b[0m\u001b[0;34m(\u001b[0m\u001b[0mresource_not_found\u001b[0m\u001b[0;34m)\u001b[0m\u001b[0;34m\u001b[0m\u001b[0;34m\u001b[0m\u001b[0m\n\u001b[0m\u001b[1;32m    580\u001b[0m \u001b[0;34m\u001b[0m\u001b[0m\n",
            "\u001b[0;31mLookupError\u001b[0m: \n**********************************************************************\n  Resource \u001b[93mstopwords\u001b[0m not found.\n  Please use the NLTK Downloader to obtain the resource:\n\n  \u001b[31m>>> import nltk\n  >>> nltk.download('stopwords')\n  \u001b[0m\n  For more information see: https://www.nltk.org/data.html\n\n  Attempted to load \u001b[93mcorpora/stopwords.zip/stopwords/\u001b[0m\n\n  Searched in:\n    - '/root/nltk_data'\n    - '/usr/nltk_data'\n    - '/usr/share/nltk_data'\n    - '/usr/lib/nltk_data'\n    - '/usr/share/nltk_data'\n    - '/usr/local/share/nltk_data'\n    - '/usr/lib/nltk_data'\n    - '/usr/local/lib/nltk_data'\n**********************************************************************\n",
            "\nDuring handling of the above exception, another exception occurred:\n",
            "\u001b[0;31mLookupError\u001b[0m                               Traceback (most recent call last)",
            "\u001b[0;32m<ipython-input-4-7a1a486ec5bc>\u001b[0m in \u001b[0;36m<cell line: 22>\u001b[0;34m()\u001b[0m\n\u001b[1;32m     20\u001b[0m     \u001b[0;32mreturn\u001b[0m \u001b[0melement\u001b[0m\u001b[0;34m\u001b[0m\u001b[0;34m\u001b[0m\u001b[0m\n\u001b[1;32m     21\u001b[0m \u001b[0;34m\u001b[0m\u001b[0m\n\u001b[0;32m---> 22\u001b[0;31m \u001b[0mstopword_set\u001b[0m \u001b[0;34m=\u001b[0m \u001b[0mset\u001b[0m\u001b[0;34m(\u001b[0m\u001b[0mstopwords\u001b[0m\u001b[0;34m.\u001b[0m\u001b[0mwords\u001b[0m\u001b[0;34m(\u001b[0m\u001b[0;34m'english'\u001b[0m\u001b[0;34m)\u001b[0m\u001b[0;34m)\u001b[0m\u001b[0;34m\u001b[0m\u001b[0;34m\u001b[0m\u001b[0m\n\u001b[0m\u001b[1;32m     23\u001b[0m \u001b[0mmore_stopwords\u001b[0m \u001b[0;34m=\u001b[0m \u001b[0;34m{\u001b[0m\u001b[0;34m'br'\u001b[0m\u001b[0;34m,\u001b[0m \u001b[0;34m'amazon'\u001b[0m\u001b[0;34m,\u001b[0m \u001b[0;34m'com'\u001b[0m\u001b[0;34m,\u001b[0m \u001b[0;34m'http'\u001b[0m\u001b[0;34m,\u001b[0m \u001b[0;34m'www'\u001b[0m\u001b[0;34m,\u001b[0m \u001b[0;34m'href'\u001b[0m\u001b[0;34m,\u001b[0m \u001b[0;34m'gp'\u001b[0m\u001b[0;34m}\u001b[0m\u001b[0;34m\u001b[0m\u001b[0;34m\u001b[0m\u001b[0m\n\u001b[1;32m     24\u001b[0m \u001b[0mall_stopwords\u001b[0m \u001b[0;34m=\u001b[0m \u001b[0mstopword_set\u001b[0m\u001b[0;34m.\u001b[0m\u001b[0munion\u001b[0m\u001b[0;34m(\u001b[0m\u001b[0mmore_stopwords\u001b[0m\u001b[0;34m)\u001b[0m\u001b[0;34m\u001b[0m\u001b[0;34m\u001b[0m\u001b[0m\n",
            "\u001b[0;32m/usr/local/lib/python3.10/dist-packages/nltk/corpus/util.py\u001b[0m in \u001b[0;36m__getattr__\u001b[0;34m(self, attr)\u001b[0m\n\u001b[1;32m    118\u001b[0m             \u001b[0;32mraise\u001b[0m \u001b[0mAttributeError\u001b[0m\u001b[0;34m(\u001b[0m\u001b[0;34m\"LazyCorpusLoader object has no attribute '__bases__'\"\u001b[0m\u001b[0;34m)\u001b[0m\u001b[0;34m\u001b[0m\u001b[0;34m\u001b[0m\u001b[0m\n\u001b[1;32m    119\u001b[0m \u001b[0;34m\u001b[0m\u001b[0m\n\u001b[0;32m--> 120\u001b[0;31m         \u001b[0mself\u001b[0m\u001b[0;34m.\u001b[0m\u001b[0m__load\u001b[0m\u001b[0;34m(\u001b[0m\u001b[0;34m)\u001b[0m\u001b[0;34m\u001b[0m\u001b[0;34m\u001b[0m\u001b[0m\n\u001b[0m\u001b[1;32m    121\u001b[0m         \u001b[0;31m# This looks circular, but its not, since __load() changes our\u001b[0m\u001b[0;34m\u001b[0m\u001b[0;34m\u001b[0m\u001b[0m\n\u001b[1;32m    122\u001b[0m         \u001b[0;31m# __class__ to something new:\u001b[0m\u001b[0;34m\u001b[0m\u001b[0;34m\u001b[0m\u001b[0m\n",
            "\u001b[0;32m/usr/local/lib/python3.10/dist-packages/nltk/corpus/util.py\u001b[0m in \u001b[0;36m__load\u001b[0;34m(self)\u001b[0m\n\u001b[1;32m     84\u001b[0m                     \u001b[0mroot\u001b[0m \u001b[0;34m=\u001b[0m \u001b[0mnltk\u001b[0m\u001b[0;34m.\u001b[0m\u001b[0mdata\u001b[0m\u001b[0;34m.\u001b[0m\u001b[0mfind\u001b[0m\u001b[0;34m(\u001b[0m\u001b[0;34mf\"{self.subdir}/{zip_name}\"\u001b[0m\u001b[0;34m)\u001b[0m\u001b[0;34m\u001b[0m\u001b[0;34m\u001b[0m\u001b[0m\n\u001b[1;32m     85\u001b[0m                 \u001b[0;32mexcept\u001b[0m \u001b[0mLookupError\u001b[0m\u001b[0;34m:\u001b[0m\u001b[0;34m\u001b[0m\u001b[0;34m\u001b[0m\u001b[0m\n\u001b[0;32m---> 86\u001b[0;31m                     \u001b[0;32mraise\u001b[0m \u001b[0me\u001b[0m\u001b[0;34m\u001b[0m\u001b[0;34m\u001b[0m\u001b[0m\n\u001b[0m\u001b[1;32m     87\u001b[0m \u001b[0;34m\u001b[0m\u001b[0m\n\u001b[1;32m     88\u001b[0m         \u001b[0;31m# Load the corpus.\u001b[0m\u001b[0;34m\u001b[0m\u001b[0;34m\u001b[0m\u001b[0m\n",
            "\u001b[0;32m/usr/local/lib/python3.10/dist-packages/nltk/corpus/util.py\u001b[0m in \u001b[0;36m__load\u001b[0;34m(self)\u001b[0m\n\u001b[1;32m     79\u001b[0m         \u001b[0;32melse\u001b[0m\u001b[0;34m:\u001b[0m\u001b[0;34m\u001b[0m\u001b[0;34m\u001b[0m\u001b[0m\n\u001b[1;32m     80\u001b[0m             \u001b[0;32mtry\u001b[0m\u001b[0;34m:\u001b[0m\u001b[0;34m\u001b[0m\u001b[0;34m\u001b[0m\u001b[0m\n\u001b[0;32m---> 81\u001b[0;31m                 \u001b[0mroot\u001b[0m \u001b[0;34m=\u001b[0m \u001b[0mnltk\u001b[0m\u001b[0;34m.\u001b[0m\u001b[0mdata\u001b[0m\u001b[0;34m.\u001b[0m\u001b[0mfind\u001b[0m\u001b[0;34m(\u001b[0m\u001b[0;34mf\"{self.subdir}/{self.__name}\"\u001b[0m\u001b[0;34m)\u001b[0m\u001b[0;34m\u001b[0m\u001b[0;34m\u001b[0m\u001b[0m\n\u001b[0m\u001b[1;32m     82\u001b[0m             \u001b[0;32mexcept\u001b[0m \u001b[0mLookupError\u001b[0m \u001b[0;32mas\u001b[0m \u001b[0me\u001b[0m\u001b[0;34m:\u001b[0m\u001b[0;34m\u001b[0m\u001b[0;34m\u001b[0m\u001b[0m\n\u001b[1;32m     83\u001b[0m                 \u001b[0;32mtry\u001b[0m\u001b[0;34m:\u001b[0m\u001b[0;34m\u001b[0m\u001b[0;34m\u001b[0m\u001b[0m\n",
            "\u001b[0;32m/usr/local/lib/python3.10/dist-packages/nltk/data.py\u001b[0m in \u001b[0;36mfind\u001b[0;34m(resource_name, paths)\u001b[0m\n\u001b[1;32m    577\u001b[0m     \u001b[0msep\u001b[0m \u001b[0;34m=\u001b[0m \u001b[0;34m\"*\"\u001b[0m \u001b[0;34m*\u001b[0m \u001b[0;36m70\u001b[0m\u001b[0;34m\u001b[0m\u001b[0;34m\u001b[0m\u001b[0m\n\u001b[1;32m    578\u001b[0m     \u001b[0mresource_not_found\u001b[0m \u001b[0;34m=\u001b[0m \u001b[0;34mf\"\\n{sep}\\n{msg}\\n{sep}\\n\"\u001b[0m\u001b[0;34m\u001b[0m\u001b[0;34m\u001b[0m\u001b[0m\n\u001b[0;32m--> 579\u001b[0;31m     \u001b[0;32mraise\u001b[0m \u001b[0mLookupError\u001b[0m\u001b[0;34m(\u001b[0m\u001b[0mresource_not_found\u001b[0m\u001b[0;34m)\u001b[0m\u001b[0;34m\u001b[0m\u001b[0;34m\u001b[0m\u001b[0m\n\u001b[0m\u001b[1;32m    580\u001b[0m \u001b[0;34m\u001b[0m\u001b[0m\n\u001b[1;32m    581\u001b[0m \u001b[0;34m\u001b[0m\u001b[0m\n",
            "\u001b[0;31mLookupError\u001b[0m: \n**********************************************************************\n  Resource \u001b[93mstopwords\u001b[0m not found.\n  Please use the NLTK Downloader to obtain the resource:\n\n  \u001b[31m>>> import nltk\n  >>> nltk.download('stopwords')\n  \u001b[0m\n  For more information see: https://www.nltk.org/data.html\n\n  Attempted to load \u001b[93mcorpora/stopwords\u001b[0m\n\n  Searched in:\n    - '/root/nltk_data'\n    - '/usr/nltk_data'\n    - '/usr/share/nltk_data'\n    - '/usr/lib/nltk_data'\n    - '/usr/share/nltk_data'\n    - '/usr/local/share/nltk_data'\n    - '/usr/lib/nltk_data'\n    - '/usr/local/lib/nltk_data'\n**********************************************************************\n"
          ]
        }
      ],
      "source": [
        "from nltk.corpus import stopwords\n",
        "from nltk.tokenize import RegexpTokenizer\n",
        "from functools import partial\n",
        "\n",
        "tokenizer = RegexpTokenizer(r'\\w+')\n",
        "\n",
        "def extract_reviews(element):\n",
        "    element['review/tokens'] = element['review/text'].lower()\n",
        "    return element\n",
        "\n",
        "def tokenize_reviews(element):\n",
        "    element['review/tokens'] = tokenizer.tokenize(element['review/tokens'])\n",
        "    return element\n",
        "\n",
        "def filter_stopword(word, stopwords):\n",
        "    return word not in stopwords\n",
        "\n",
        "def filter_stopwords(element, stopwords):\n",
        "    element['review/tokens'] = list(filter(partial(filter_stopword, stopwords=stopwords), element['review/tokens']))\n",
        "    return element\n",
        "\n",
        "stopword_set = set(stopwords.words('english'))\n",
        "more_stopwords = {'br', 'amazon', 'com', 'http', 'www', 'href', 'gp'}\n",
        "all_stopwords = stopword_set.union(more_stopwords)\n",
        "\n",
        "review_extracted_text = tagged_reviews.map(extract_reviews)\n",
        "review_tokens = review_extracted_text.map(tokenize_reviews)\n",
        "review_text_clean = review_tokens.map(partial(filter_stopwords, stopwords=all_stopwords))"
      ]
    },
    {
      "cell_type": "code",
      "execution_count": null,
      "metadata": {
        "id": "pG7ouawqIN89",
        "outputId": "f5b94967-3e77-41d2-cad8-07e0d095db64"
      },
      "outputs": [
        {
          "name": "stdout",
          "output_type": "stream",
          "text": [
            "[########################################] | 100% Completed | 34.8s\n"
          ]
        },
        {
          "data": {
            "text/plain": [
              "114290"
            ]
          },
          "execution_count": 8,
          "metadata": {},
          "output_type": "execute_result"
        }
      ],
      "source": [
        "def extract_tokens(element):\n",
        "    return element['review/tokens']\n",
        "\n",
        "extracted_tokens = review_text_clean.map(extract_tokens)\n",
        "unique_tokens = extracted_tokens.flatten().distinct()\n",
        "\n",
        "with ProgressBar():\n",
        "    number_of_tokens = unique_tokens.count().compute()\n",
        "number_of_tokens"
      ]
    },
    {
      "cell_type": "code",
      "execution_count": null,
      "metadata": {
        "id": "w7lj7HMmIN8-",
        "outputId": "1ab5c4c7-9fb8-4f54-b583-2522f41a5bb2"
      },
      "outputs": [
        {
          "name": "stdout",
          "output_type": "stream",
          "text": [
            "[########################################] | 100% Completed | 49.4s\n"
          ]
        }
      ],
      "source": [
        "# Listing 10.4\n",
        "def count(accumulator, element):\n",
        "    return accumulator + 1\n",
        "\n",
        "def combine(total_1, total_2):\n",
        "    return total_1 + total_2\n",
        "\n",
        "with ProgressBar():\n",
        "    token_counts = extracted_tokens.flatten().foldby(lambda x: x, count, 0, combine, 0).compute()\n",
        "\n",
        "top_tokens = sorted(token_counts, key=lambda x: x[1], reverse=True)\n",
        "top_100_tokens = list(map(lambda x: x[0], top_tokens[:100]))"
      ]
    },
    {
      "cell_type": "code",
      "execution_count": null,
      "metadata": {
        "scrolled": false,
        "id": "LZmFxn3JIN8_",
        "outputId": "ab99cfb6-ed03-4d17-ff24-ce47e77e6eb1"
      },
      "outputs": [
        {
          "data": {
            "text/plain": [
              "({'target': 1,\n",
              "  'features': array([1, 1, 0, 0, 0, 0, 1, 0, 0, 0, 1, 0, 0, 0, 0, 0, 0, 0, 0, 0, 0, 0, 0,\n",
              "         0, 0, 0, 0, 1, 1, 0, 0, 0, 0, 0, 0, 0, 0, 0, 1, 0, 0, 1, 0, 0, 0, 0,\n",
              "         0, 0, 0, 0, 0, 0, 0, 0, 0, 0, 0, 0, 0, 0, 0, 0, 0, 0, 0, 0, 0, 0, 0,\n",
              "         0, 0, 0, 0, 0, 0, 0, 0, 0, 0, 0, 0, 0, 0, 0, 0, 0, 0, 0, 0, 0, 0, 1,\n",
              "         0, 0, 0, 0, 0, 0, 0, 0])},\n",
              " {'target': 0,\n",
              "  'features': array([0, 0, 0, 0, 0, 0, 1, 0, 0, 0, 0, 0, 0, 0, 0, 0, 0, 0, 0, 0, 0, 0, 0,\n",
              "         0, 0, 0, 0, 0, 0, 0, 0, 0, 0, 0, 0, 0, 0, 0, 0, 0, 0, 0, 0, 0, 0, 0,\n",
              "         0, 0, 0, 0, 0, 0, 0, 0, 0, 0, 0, 0, 0, 0, 0, 0, 0, 0, 0, 0, 0, 0, 0,\n",
              "         0, 0, 0, 0, 0, 0, 0, 0, 0, 0, 0, 0, 0, 0, 0, 0, 0, 0, 0, 0, 0, 0, 0,\n",
              "         0, 0, 0, 0, 0, 0, 0, 0])},\n",
              " {'target': 1,\n",
              "  'features': array([0, 0, 0, 0, 0, 0, 0, 0, 0, 0, 0, 0, 0, 0, 0, 0, 0, 0, 0, 0, 0, 0, 0,\n",
              "         0, 0, 0, 0, 0, 0, 0, 0, 0, 0, 0, 0, 0, 0, 1, 0, 0, 0, 0, 0, 0, 0, 0,\n",
              "         0, 0, 0, 0, 0, 0, 0, 0, 0, 0, 0, 0, 0, 0, 1, 0, 0, 0, 0, 0, 0, 0, 0,\n",
              "         0, 0, 0, 0, 0, 0, 0, 0, 0, 0, 0, 0, 0, 0, 0, 0, 0, 0, 0, 0, 0, 0, 0,\n",
              "         0, 0, 0, 0, 0, 0, 0, 0])},\n",
              " {'target': 0,\n",
              "  'features': array([0, 1, 0, 0, 0, 0, 0, 1, 0, 0, 0, 0, 0, 0, 0, 0, 0, 0, 0, 0, 0, 0, 0,\n",
              "         0, 0, 0, 0, 0, 0, 0, 0, 0, 0, 0, 0, 0, 0, 0, 1, 0, 0, 0, 1, 0, 0, 0,\n",
              "         0, 0, 0, 0, 0, 0, 0, 0, 0, 0, 0, 0, 0, 0, 0, 0, 1, 0, 0, 0, 0, 0, 0,\n",
              "         0, 0, 0, 0, 0, 0, 0, 0, 0, 0, 0, 0, 0, 0, 0, 0, 0, 0, 0, 0, 0, 0, 0,\n",
              "         0, 0, 0, 0, 0, 0, 0, 0])},\n",
              " {'target': 1,\n",
              "  'features': array([0, 0, 0, 0, 1, 0, 0, 0, 0, 0, 0, 0, 0, 0, 0, 0, 0, 0, 0, 0, 0, 0, 1,\n",
              "         0, 0, 0, 0, 0, 0, 0, 0, 0, 0, 0, 0, 0, 0, 0, 0, 0, 0, 0, 0, 0, 0, 0,\n",
              "         0, 0, 0, 0, 0, 0, 0, 0, 0, 0, 0, 0, 0, 0, 0, 0, 0, 0, 0, 0, 0, 0, 0,\n",
              "         0, 0, 0, 0, 0, 0, 0, 0, 0, 0, 0, 0, 0, 0, 0, 0, 0, 0, 0, 0, 0, 0, 0,\n",
              "         0, 0, 0, 0, 0, 0, 0, 0])})"
            ]
          },
          "execution_count": 11,
          "metadata": {},
          "output_type": "execute_result"
        }
      ],
      "source": [
        "import numpy as np\n",
        "def vectorize_tokens(element):\n",
        "    vectorized_tokens = np.where(np.isin(top_100_tokens, element['review/tokens']), 1, 0)\n",
        "    element['review/token_vector'] = vectorized_tokens\n",
        "    return element\n",
        "\n",
        "def prep_model_data(element):\n",
        "    return {'target': 1 if element['review/sentiment'] == 'positive' else 0,\n",
        "            'features': element['review/token_vector']}\n",
        "\n",
        "model_data = review_text_clean.map(vectorize_tokens).map(prep_model_data)\n",
        "\n",
        "model_data.take(5)"
      ]
    },
    {
      "cell_type": "code",
      "execution_count": null,
      "metadata": {
        "id": "hzzNyMgFIN8_"
      },
      "outputs": [],
      "source": [
        "from dask import array as dask_array\n",
        "def stacker(partition):\n",
        "    return dask_array.concatenate([element for element in partition])\n",
        "\n",
        "with ProgressBar():\n",
        "    feature_arrays = model_data.pluck('features').map(lambda x: dask_array.from_array(x, 1000).reshape(1,-1)).reduction(perpartition=stacker, aggregate=stacker)\n",
        "    feature_array = feature_arrays.compute()\n",
        "feature_array"
      ]
    },
    {
      "cell_type": "code",
      "execution_count": null,
      "metadata": {
        "id": "N6q_syfNIN9A",
        "outputId": "e8617fa9-bb72-4901-ca68-4e5f69cc280d"
      },
      "outputs": [
        {
          "name": "stdout",
          "output_type": "stream",
          "text": [
            "[########################################] | 100% Completed |  5min 32.8s\n"
          ]
        }
      ],
      "source": [
        "with ProgressBar():\n",
        "    feature_array.rechunk(5000).to_zarr('sentiment_feature_array.zarr')\n",
        "    feature_array = dask_array.from_zarr('sentiment_feature_array.zarr')\n",
        "\n",
        "with ProgressBar():\n",
        "    target_arrays = model_data.pluck('target').map(lambda x: dask_array.from_array(x, 1000).reshape(-1,1)).reduction(perpartition=stacker, aggregate=stacker)\n",
        "    target_arrays.compute().rechunk(5000).to_zarr('sentiment_target_array.zarr')\n",
        "    target_array = dask_array.from_zarr('sentiment_target_array.zarr')"
      ]
    },
    {
      "cell_type": "code",
      "execution_count": null,
      "metadata": {
        "id": "achXEM97IN9A",
        "outputId": "50d2ead4-c409-48e3-ed3d-5d5aa6f3c152"
      },
      "outputs": [
        {
          "name": "stdout",
          "output_type": "stream",
          "text": [
            "[########################################] | 100% Completed |  0.9s\n",
            "[####################                    ] | 50% Completed |  1.6s"
          ]
        },
        {
          "name": "stderr",
          "output_type": "stream",
          "text": [
            "/anaconda3/lib/python3.6/site-packages/dask_glm/utils.py:52: RuntimeWarning: overflow encountered in exp\n",
            "  return np.exp(A)\n"
          ]
        },
        {
          "name": "stdout",
          "output_type": "stream",
          "text": [
            "[########################################] | 100% Completed |  3.6s\n",
            "[########################################] | 100% Completed |  3.8s\n",
            "[########################################] | 100% Completed |  3.9s\n",
            "[########################################] | 100% Completed |  3.8s\n",
            "[########################################] | 100% Completed |  3.6s\n",
            "[########################################] | 100% Completed |  3.9s\n",
            "[########################################] | 100% Completed |  3.7s\n",
            "[########################################] | 100% Completed |  3.5s\n",
            "[########################################] | 100% Completed |  3.7s\n",
            "[########################################] | 100% Completed |  4.0s\n",
            "[########################################] | 100% Completed |  4.0s\n",
            "[########################################] | 100% Completed |  4.0s\n",
            "[########################################] | 100% Completed |  3.8s\n",
            "[########################################] | 100% Completed |  3.9s\n",
            "[########################################] | 100% Completed |  3.7s\n",
            "[########################################] | 100% Completed |  3.5s\n",
            "[########################################] | 100% Completed |  3.7s\n",
            "[########################################] | 100% Completed |  3.8s\n",
            "[########################################] | 100% Completed |  3.6s\n",
            "[########################################] | 100% Completed |  3.6s\n",
            "[########################################] | 100% Completed |  3.6s\n",
            "[########################################] | 100% Completed |  3.7s\n",
            "[########################################] | 100% Completed |  3.6s\n",
            "[########################################] | 100% Completed |  3.4s\n",
            "[########################################] | 100% Completed |  3.5s\n",
            "[########################################] | 100% Completed |  3.7s\n",
            "[########################################] | 100% Completed |  3.7s\n",
            "[########################################] | 100% Completed |  3.6s\n",
            "[########################################] | 100% Completed |  3.6s\n",
            "[########################################] | 100% Completed |  3.7s\n",
            "[########################################] | 100% Completed |  3.8s\n",
            "[########################################] | 100% Completed |  3.9s\n",
            "[########################################] | 100% Completed |  3.9s\n",
            "[########################################] | 100% Completed |  4.0s\n",
            "[########################################] | 100% Completed |  4.0s\n",
            "[########################################] | 100% Completed |  3.7s\n",
            "[########################################] | 100% Completed |  3.5s\n",
            "[########################################] | 100% Completed |  3.7s\n",
            "[########################################] | 100% Completed |  3.9s\n",
            "[########################################] | 100% Completed |  3.9s\n",
            "[########################################] | 100% Completed |  3.8s\n",
            "[########################################] | 100% Completed |  3.6s\n",
            "[########################################] | 100% Completed |  3.6s\n",
            "[########################################] | 100% Completed |  3.6s\n",
            "[########################################] | 100% Completed |  3.9s\n",
            "[########################################] | 100% Completed |  3.5s\n",
            "[########################################] | 100% Completed |  3.5s\n",
            "[########################################] | 100% Completed |  3.4s\n",
            "[########################################] | 100% Completed |  3.5s\n",
            "[########################################] | 100% Completed |  3.6s\n",
            "[########################################] | 100% Completed |  3.6s\n",
            "[########################################] | 100% Completed |  3.6s\n",
            "[########################################] | 100% Completed |  3.6s\n",
            "[########################################] | 100% Completed |  3.6s\n",
            "[########################################] | 100% Completed |  3.7s\n",
            "[########################################] | 100% Completed |  3.7s\n",
            "[########################################] | 100% Completed |  3.7s\n",
            "[########################################] | 100% Completed |  3.8s\n",
            "[########################################] | 100% Completed |  3.6s\n",
            "[########################################] | 100% Completed |  3.8s\n",
            "[########################################] | 100% Completed |  3.9s\n",
            "[########################################] | 100% Completed |  3.9s\n",
            "[########################################] | 100% Completed |  4.1s\n",
            "[########################################] | 100% Completed |  3.9s\n",
            "[########################################] | 100% Completed |  3.6s\n",
            "[########################################] | 100% Completed |  3.8s\n",
            "[########################################] | 100% Completed |  3.9s\n",
            "[########################################] | 100% Completed |  4.1s\n",
            "[########################################] | 100% Completed |  3.8s\n",
            "[########################################] | 100% Completed |  3.6s\n",
            "[########################################] | 100% Completed |  3.8s\n",
            "[########################################] | 100% Completed |  3.7s\n",
            "[########################################] | 100% Completed |  3.5s\n",
            "[########################################] | 100% Completed |  3.7s\n",
            "[########################################] | 100% Completed |  3.7s\n",
            "[########################################] | 100% Completed |  3.6s\n",
            "[########################################] | 100% Completed |  3.8s\n",
            "[########################################] | 100% Completed |  4.0s\n",
            "[########################################] | 100% Completed |  3.9s\n",
            "[########################################] | 100% Completed |  3.9s\n",
            "[########################################] | 100% Completed |  3.8s\n",
            "[########################################] | 100% Completed |  4.0s\n",
            "[########################################] | 100% Completed |  4.2s\n",
            "[########################################] | 100% Completed |  3.7s\n",
            "[########################################] | 100% Completed |  3.6s\n",
            "[########################################] | 100% Completed |  3.8s\n",
            "[########################################] | 100% Completed |  4.0s\n",
            "[########################################] | 100% Completed |  3.8s\n",
            "[########################################] | 100% Completed |  3.8s\n",
            "[########################################] | 100% Completed |  3.6s\n",
            "[########################################] | 100% Completed |  3.4s\n",
            "[########################################] | 100% Completed |  3.4s\n",
            "[########################################] | 100% Completed |  3.4s\n",
            "[########################################] | 100% Completed |  3.6s\n",
            "[########################################] | 100% Completed |  3.5s\n",
            "[########################################] | 100% Completed |  3.8s\n",
            "[########################################] | 100% Completed |  5.7s\n",
            "[########################################] | 100% Completed |  4.0s\n",
            "[########################################] | 100% Completed |  4.5s\n",
            "[########################################] | 100% Completed |  5.1s\n"
          ]
        }
      ],
      "source": [
        "from dask_ml.linear_model import LogisticRegression\n",
        "from dask_ml.model_selection import train_test_split\n",
        "\n",
        "X = feature_array\n",
        "y = target_array.flatten()\n",
        "\n",
        "X_train, X_test, y_train, y_test = train_test_split(X, y, random_state=42)\n",
        "\n",
        "lr = LogisticRegression()\n",
        "\n",
        "with ProgressBar():\n",
        "    lr.fit(X_train, y_train)"
      ]
    },
    {
      "cell_type": "code",
      "execution_count": null,
      "metadata": {
        "id": "z0Ni5pEhIN9B",
        "outputId": "1ff193f4-a9ba-46a0-a35c-10fc92a1654f"
      },
      "outputs": [
        {
          "data": {
            "text/plain": [
              "0.79629173556626676"
            ]
          },
          "execution_count": 17,
          "metadata": {},
          "output_type": "execute_result"
        }
      ],
      "source": [
        "lr.score(X_test, y_test).compute()"
      ]
    },
    {
      "cell_type": "code",
      "execution_count": null,
      "metadata": {
        "id": "M9l-iMeOIN9B",
        "outputId": "d54a8431-1f5e-4709-c5bd-61517435fbee"
      },
      "outputs": [
        {
          "name": "stdout",
          "output_type": "stream",
          "text": [
            "[########################################] | 100% Completed |  2.1s\n"
          ]
        }
      ],
      "source": [
        "from sklearn.naive_bayes import BernoulliNB\n",
        "from dask_ml.wrappers import Incremental\n",
        "\n",
        "nb = BernoulliNB()\n",
        "\n",
        "parallel_nb = Incremental(nb)\n",
        "\n",
        "with ProgressBar():\n",
        "    parallel_nb.fit(X_train, y_train, classes=[0,1])"
      ]
    },
    {
      "cell_type": "code",
      "execution_count": null,
      "metadata": {
        "id": "oAnqBb8jIN9C",
        "outputId": "b64612c5-cc8a-4ade-f336-db26b4ac54e1"
      },
      "outputs": [
        {
          "data": {
            "text/plain": [
              "0.78886817014389754"
            ]
          },
          "execution_count": 19,
          "metadata": {},
          "output_type": "execute_result"
        }
      ],
      "source": [
        "parallel_nb.score(X_test, y_test)"
      ]
    },
    {
      "cell_type": "code",
      "execution_count": null,
      "metadata": {
        "id": "dbRMZE_aIN9C",
        "outputId": "5f6f734c-831e-417b-cd02-92ec13b0422f"
      },
      "outputs": [
        {
          "name": "stdout",
          "output_type": "stream",
          "text": [
            "[########################################] | 100% Completed | 23min 24.1s\n"
          ]
        }
      ],
      "source": [
        "from dask_ml.model_selection import GridSearchCV\n",
        "\n",
        "parameters = {'penalty': ['l1', 'l2'], 'C': [0.5, 1, 2]}\n",
        "\n",
        "lr = LogisticRegression()\n",
        "tuned_lr = GridSearchCV(lr, parameters)\n",
        "\n",
        "with ProgressBar():\n",
        "    tuned_lr.fit(X_train, y_train)"
      ]
    },
    {
      "cell_type": "code",
      "execution_count": null,
      "metadata": {
        "scrolled": false,
        "id": "k0IgW5PkIN9C",
        "outputId": "14e103c3-0523-4dc5-a89e-457c3e38295c"
      },
      "outputs": [
        {
          "name": "stderr",
          "output_type": "stream",
          "text": [
            "/anaconda3/lib/python3.6/site-packages/dask_ml/model_selection/utils.py:121: FutureWarning: You are accessing a training score ('split0_train_score'), which will not be available by default any more in sklearn 0.21. If you need training scores, please set return_train_score=True\n",
            "  warnings.warn(*warn_args, **warn_kwargs)\n",
            "/anaconda3/lib/python3.6/site-packages/dask_ml/model_selection/utils.py:121: FutureWarning: You are accessing a training score ('split1_train_score'), which will not be available by default any more in sklearn 0.21. If you need training scores, please set return_train_score=True\n",
            "  warnings.warn(*warn_args, **warn_kwargs)\n",
            "/anaconda3/lib/python3.6/site-packages/dask_ml/model_selection/utils.py:121: FutureWarning: You are accessing a training score ('split2_train_score'), which will not be available by default any more in sklearn 0.21. If you need training scores, please set return_train_score=True\n",
            "  warnings.warn(*warn_args, **warn_kwargs)\n",
            "/anaconda3/lib/python3.6/site-packages/dask_ml/model_selection/utils.py:121: FutureWarning: You are accessing a training score ('mean_train_score'), which will not be available by default any more in sklearn 0.21. If you need training scores, please set return_train_score=True\n",
            "  warnings.warn(*warn_args, **warn_kwargs)\n",
            "/anaconda3/lib/python3.6/site-packages/dask_ml/model_selection/utils.py:121: FutureWarning: You are accessing a training score ('std_train_score'), which will not be available by default any more in sklearn 0.21. If you need training scores, please set return_train_score=True\n",
            "  warnings.warn(*warn_args, **warn_kwargs)\n"
          ]
        },
        {
          "data": {
            "text/html": [
              "<div>\n",
              "<style scoped>\n",
              "    .dataframe tbody tr th:only-of-type {\n",
              "        vertical-align: middle;\n",
              "    }\n",
              "\n",
              "    .dataframe tbody tr th {\n",
              "        vertical-align: top;\n",
              "    }\n",
              "\n",
              "    .dataframe thead th {\n",
              "        text-align: right;\n",
              "    }\n",
              "</style>\n",
              "<table border=\"1\" class=\"dataframe\">\n",
              "  <thead>\n",
              "    <tr style=\"text-align: right;\">\n",
              "      <th></th>\n",
              "      <th>params</th>\n",
              "      <th>mean_fit_time</th>\n",
              "      <th>std_fit_time</th>\n",
              "      <th>mean_score_time</th>\n",
              "      <th>std_score_time</th>\n",
              "      <th>split0_test_score</th>\n",
              "      <th>split1_test_score</th>\n",
              "      <th>split2_test_score</th>\n",
              "      <th>mean_test_score</th>\n",
              "      <th>std_test_score</th>\n",
              "      <th>rank_test_score</th>\n",
              "      <th>split0_train_score</th>\n",
              "      <th>split1_train_score</th>\n",
              "      <th>split2_train_score</th>\n",
              "      <th>mean_train_score</th>\n",
              "      <th>std_train_score</th>\n",
              "      <th>param_C</th>\n",
              "      <th>param_penalty</th>\n",
              "    </tr>\n",
              "  </thead>\n",
              "  <tbody>\n",
              "    <tr>\n",
              "      <th>0</th>\n",
              "      <td>{'C': 0.5, 'penalty': 'l1'}</td>\n",
              "      <td>1308.978919</td>\n",
              "      <td>11.548624</td>\n",
              "      <td>0.347088</td>\n",
              "      <td>0.044540</td>\n",
              "      <td>0.790291</td>\n",
              "      <td>0.793938</td>\n",
              "      <td>0.797087</td>\n",
              "      <td>0.793772</td>\n",
              "      <td>0.002777</td>\n",
              "      <td>4</td>\n",
              "      <td>0.795671</td>\n",
              "      <td>0.794152</td>\n",
              "      <td>0.792604</td>\n",
              "      <td>0.794142</td>\n",
              "      <td>0.001252</td>\n",
              "      <td>0.5</td>\n",
              "      <td>l1</td>\n",
              "    </tr>\n",
              "    <tr>\n",
              "      <th>1</th>\n",
              "      <td>{'C': 0.5, 'penalty': 'l2'}</td>\n",
              "      <td>143.865403</td>\n",
              "      <td>2.276777</td>\n",
              "      <td>0.626723</td>\n",
              "      <td>0.145728</td>\n",
              "      <td>0.790801</td>\n",
              "      <td>0.793715</td>\n",
              "      <td>0.796987</td>\n",
              "      <td>0.793834</td>\n",
              "      <td>0.002527</td>\n",
              "      <td>1</td>\n",
              "      <td>0.796081</td>\n",
              "      <td>0.794008</td>\n",
              "      <td>0.792264</td>\n",
              "      <td>0.794118</td>\n",
              "      <td>0.001560</td>\n",
              "      <td>0.5</td>\n",
              "      <td>l2</td>\n",
              "    </tr>\n",
              "    <tr>\n",
              "      <th>2</th>\n",
              "      <td>{'C': 1, 'penalty': 'l1'}</td>\n",
              "      <td>1211.649146</td>\n",
              "      <td>72.024862</td>\n",
              "      <td>0.639021</td>\n",
              "      <td>0.275957</td>\n",
              "      <td>0.790689</td>\n",
              "      <td>0.793551</td>\n",
              "      <td>0.796559</td>\n",
              "      <td>0.793600</td>\n",
              "      <td>0.002397</td>\n",
              "      <td>6</td>\n",
              "      <td>0.796014</td>\n",
              "      <td>0.793724</td>\n",
              "      <td>0.792182</td>\n",
              "      <td>0.793973</td>\n",
              "      <td>0.001574</td>\n",
              "      <td>1</td>\n",
              "      <td>l1</td>\n",
              "    </tr>\n",
              "    <tr>\n",
              "      <th>3</th>\n",
              "      <td>{'C': 1, 'penalty': 'l2'}</td>\n",
              "      <td>74.962411</td>\n",
              "      <td>1.968621</td>\n",
              "      <td>0.553580</td>\n",
              "      <td>0.068979</td>\n",
              "      <td>0.790801</td>\n",
              "      <td>0.793715</td>\n",
              "      <td>0.796987</td>\n",
              "      <td>0.793834</td>\n",
              "      <td>0.002527</td>\n",
              "      <td>1</td>\n",
              "      <td>0.796081</td>\n",
              "      <td>0.794008</td>\n",
              "      <td>0.792267</td>\n",
              "      <td>0.794119</td>\n",
              "      <td>0.001559</td>\n",
              "      <td>1</td>\n",
              "      <td>l2</td>\n",
              "    </tr>\n",
              "    <tr>\n",
              "      <th>4</th>\n",
              "      <td>{'C': 2, 'penalty': 'l1'}</td>\n",
              "      <td>608.802576</td>\n",
              "      <td>58.226398</td>\n",
              "      <td>0.315940</td>\n",
              "      <td>0.122815</td>\n",
              "      <td>0.790701</td>\n",
              "      <td>0.793592</td>\n",
              "      <td>0.796835</td>\n",
              "      <td>0.793709</td>\n",
              "      <td>0.002505</td>\n",
              "      <td>5</td>\n",
              "      <td>0.796020</td>\n",
              "      <td>0.793829</td>\n",
              "      <td>0.792255</td>\n",
              "      <td>0.794035</td>\n",
              "      <td>0.001544</td>\n",
              "      <td>2</td>\n",
              "      <td>l1</td>\n",
              "    </tr>\n",
              "    <tr>\n",
              "      <th>5</th>\n",
              "      <td>{'C': 2, 'penalty': 'l2'}</td>\n",
              "      <td>101.755454</td>\n",
              "      <td>7.513333</td>\n",
              "      <td>0.553664</td>\n",
              "      <td>0.067346</td>\n",
              "      <td>0.790801</td>\n",
              "      <td>0.793715</td>\n",
              "      <td>0.796987</td>\n",
              "      <td>0.793834</td>\n",
              "      <td>0.002527</td>\n",
              "      <td>1</td>\n",
              "      <td>0.796081</td>\n",
              "      <td>0.794008</td>\n",
              "      <td>0.792267</td>\n",
              "      <td>0.794119</td>\n",
              "      <td>0.001559</td>\n",
              "      <td>2</td>\n",
              "      <td>l2</td>\n",
              "    </tr>\n",
              "  </tbody>\n",
              "</table>\n",
              "</div>"
            ],
            "text/plain": [
              "                        params  mean_fit_time  std_fit_time  mean_score_time  \\\n",
              "0  {'C': 0.5, 'penalty': 'l1'}    1308.978919     11.548624         0.347088   \n",
              "1  {'C': 0.5, 'penalty': 'l2'}     143.865403      2.276777         0.626723   \n",
              "2    {'C': 1, 'penalty': 'l1'}    1211.649146     72.024862         0.639021   \n",
              "3    {'C': 1, 'penalty': 'l2'}      74.962411      1.968621         0.553580   \n",
              "4    {'C': 2, 'penalty': 'l1'}     608.802576     58.226398         0.315940   \n",
              "5    {'C': 2, 'penalty': 'l2'}     101.755454      7.513333         0.553664   \n",
              "\n",
              "   std_score_time  split0_test_score  split1_test_score  split2_test_score  \\\n",
              "0        0.044540           0.790291           0.793938           0.797087   \n",
              "1        0.145728           0.790801           0.793715           0.796987   \n",
              "2        0.275957           0.790689           0.793551           0.796559   \n",
              "3        0.068979           0.790801           0.793715           0.796987   \n",
              "4        0.122815           0.790701           0.793592           0.796835   \n",
              "5        0.067346           0.790801           0.793715           0.796987   \n",
              "\n",
              "   mean_test_score  std_test_score  rank_test_score  split0_train_score  \\\n",
              "0         0.793772        0.002777                4            0.795671   \n",
              "1         0.793834        0.002527                1            0.796081   \n",
              "2         0.793600        0.002397                6            0.796014   \n",
              "3         0.793834        0.002527                1            0.796081   \n",
              "4         0.793709        0.002505                5            0.796020   \n",
              "5         0.793834        0.002527                1            0.796081   \n",
              "\n",
              "   split1_train_score  split2_train_score  mean_train_score  std_train_score  \\\n",
              "0            0.794152            0.792604          0.794142         0.001252   \n",
              "1            0.794008            0.792264          0.794118         0.001560   \n",
              "2            0.793724            0.792182          0.793973         0.001574   \n",
              "3            0.794008            0.792267          0.794119         0.001559   \n",
              "4            0.793829            0.792255          0.794035         0.001544   \n",
              "5            0.794008            0.792267          0.794119         0.001559   \n",
              "\n",
              "  param_C param_penalty  \n",
              "0     0.5            l1  \n",
              "1     0.5            l2  \n",
              "2       1            l1  \n",
              "3       1            l2  \n",
              "4       2            l1  \n",
              "5       2            l2  "
            ]
          },
          "execution_count": 21,
          "metadata": {},
          "output_type": "execute_result"
        }
      ],
      "source": [
        "import pandas as pd\n",
        "pd.DataFrame(tuned_lr.cv_results_)"
      ]
    },
    {
      "cell_type": "code",
      "execution_count": null,
      "metadata": {
        "id": "hvX0rve5IN9C"
      },
      "outputs": [],
      "source": [
        "import dill\n",
        "with open('naive_bayes_model.pkl', 'wb') as file:\n",
        "    dill.dump(parallel_nb, file)"
      ]
    },
    {
      "cell_type": "code",
      "execution_count": null,
      "metadata": {
        "id": "tg-suqw6IN9C",
        "outputId": "40c347fd-687e-4d4d-84a0-7b5aa0714d28"
      },
      "outputs": [
        {
          "data": {
            "text/plain": [
              "array([1, 1, 1, 1, 1, 1, 1, 1, 1, 1, 1, 1, 1, 1, 1, 1, 1, 1, 1, 1, 1, 1, 1,\n",
              "       1, 1, 1, 1, 1, 1, 1, 1, 1, 1, 1, 1, 1, 1, 1, 1, 1, 1, 1, 1, 1, 1, 1,\n",
              "       1, 1, 1, 1, 1, 1, 1, 1, 1, 1, 1, 1, 1, 1, 1, 1, 1, 1, 1, 1, 1, 1, 1,\n",
              "       1, 1, 1, 1, 1, 1, 1, 1, 1, 1, 1, 1, 1, 1, 1, 0, 1, 1, 1, 1, 1, 1, 1,\n",
              "       1, 1, 1, 1, 1, 1, 1, 1])"
            ]
          },
          "execution_count": 23,
          "metadata": {},
          "output_type": "execute_result"
        }
      ],
      "source": [
        "with open('naive_bayes_model.pkl', 'rb') as file:\n",
        "    nb = dill.load(file)\n",
        "nb.predict(np.random.randint(0,2,(100,100)))"
      ]
    }
  ],
  "metadata": {
    "kernelspec": {
      "display_name": "Python 3",
      "language": "python",
      "name": "python3"
    },
    "language_info": {
      "codemirror_mode": {
        "name": "ipython",
        "version": 3
      },
      "file_extension": ".py",
      "mimetype": "text/x-python",
      "name": "python",
      "nbconvert_exporter": "python",
      "pygments_lexer": "ipython3",
      "version": "3.6.8"
    },
    "colab": {
      "provenance": [],
      "include_colab_link": true
    }
  },
  "nbformat": 4,
  "nbformat_minor": 0
}